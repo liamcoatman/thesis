{
 "cells": [
  {
   "cell_type": "code",
   "execution_count": 8,
   "metadata": {
    "collapsed": false
   },
   "outputs": [
    {
     "data": {
      "text/plain": [
       "Parameters([('sigma', <Parameter 'sigma', 169.86436005760382, bounds=[0:inf]>),\n",
       "            ('center', <Parameter 'center', 0.0, bounds=[-inf:inf]>),\n",
       "            ('amplitude', <Parameter 'amplitude', 1.0, bounds=[-inf:inf]>),\n",
       "            ('fwhm',\n",
       "             <Parameter 'fwhm', 399.99999235084664, bounds=[-inf:inf], expr='2.3548200*sigma'>),\n",
       "            ('height',\n",
       "             <Parameter 'height', 0.0023485933121268764, bounds=[-inf:inf], expr='0.3989423*amplitude/sigma'>)])"
      ]
     },
     "execution_count": 8,
     "metadata": {},
     "output_type": "execute_result"
    }
   ],
   "source": [
    "from lmfit.models import GaussianModel\n",
    "import numpy as np\n",
    "\n",
    "mod = GaussianModel()   \n",
    "pars = mod.make_params() \n",
    "\n",
    "pars['sigma'].value = 400.0 / np.sqrt(8.0 * np.log(2))\n",
    "\n",
    "dv = 1.0 \n",
    "xs = np.arange(-10000.0, 10000.0, dv) / xscale \n",
    "\n",
    "norm = np.sum(integrand(xs) * dv)\n",
    "pdf = integrand(xs) / norm\n",
    "cdf = np.cumsum(pdf)"
   ]
  }
 ],
 "metadata": {
  "kernelspec": {
   "display_name": "Python 2",
   "language": "python",
   "name": "python2"
  },
  "language_info": {
   "codemirror_mode": {
    "name": "ipython",
    "version": 2
   },
   "file_extension": ".py",
   "mimetype": "text/x-python",
   "name": "python",
   "nbconvert_exporter": "python",
   "pygments_lexer": "ipython2",
   "version": "2.7.8"
  }
 },
 "nbformat": 4,
 "nbformat_minor": 0
}
