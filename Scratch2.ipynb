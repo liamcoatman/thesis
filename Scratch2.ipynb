{
 "cells": [
  {
   "cell_type": "code",
   "execution_count": 56,
   "metadata": {
    "collapsed": true
   },
   "outputs": [],
   "source": [
    "import os\n",
    "import numpy as np\n",
    "import matplotlib.pyplot as plt\n",
    "from lmfit.models import GaussianModel\n",
    "from astropy.io import fits"
   ]
  },
  {
   "cell_type": "code",
   "execution_count": 73,
   "metadata": {
    "collapsed": false
   },
   "outputs": [],
   "source": [
    "fname = '/data/lc585/nearIR_spectra/data/SINFONI_redux/Optical/he_2229-3647.fits'\n",
    "\n",
    "hdulist = fits.open(fname)\n",
    "data = hdulist[1].data\n",
    "hdr = hdulist[1].header\n",
    "wav = data.field('wave')\n",
    "dw = np.diff(wav)\n",
    "flux = data.field('flux')\n",
    "err = data.field('noise')\n",
    "\n",
    "spec = np.array([wav, err*2]).T\n",
    "\n",
    "fout = '/data/lc585/nearIR_spectra/data/SOFI_HENNAWI_redux/UVES/tmp.txt'\n",
    "np.savetxt(fout, spec)\n"
   ]
  },
  {
   "cell_type": "code",
   "execution_count": 33,
   "metadata": {
    "collapsed": false
   },
   "outputs": [],
   "source": [
    "lim = (wav >7720.16) & (wav < 7720.7)\n",
    "x = wav[lim]\n",
    "y = sky[lim] - 0.0018026\n",
    "\n",
    "plt.plot(x, y )\n",
    "plt.xlim(7719.9, 7721.1)\n",
    "plt.ylim(-4.9e-5, 0.000980)\n",
    "plt.plot(x, result.best_fit)\n",
    "\n",
    "plt.show()"
   ]
  },
  {
   "cell_type": "code",
   "execution_count": 32,
   "metadata": {
    "collapsed": false
   },
   "outputs": [],
   "source": [
    "mod = GaussianModel()\n",
    "pars = mod.make_params()\n",
    "pars['center'].value = 7720.5\n",
    "result = mod.fit(y, x=x, params=pars)"
   ]
  },
  {
   "cell_type": "code",
   "execution_count": 54,
   "metadata": {
    "collapsed": false
   },
   "outputs": [
    {
     "data": {
      "text/latex": [
       "$2.3784935 \\; \\mathrm{\\frac{km}{s}}$"
      ],
      "text/plain": [
       "<Quantity 2.3784935141181975 km / s>"
      ]
     },
     "execution_count": 54,
     "metadata": {},
     "output_type": "execute_result"
    }
   ],
   "source": [
    "# 0.05 A per pixel\n",
    "from astropy.constants import c\n",
    "(0.05 / 6302.15) * c.to('km/s')\n",
    "\n",
    "\n",
    "\n"
   ]
  },
  {
   "cell_type": "code",
   "execution_count": 77,
   "metadata": {
    "collapsed": false
   },
   "outputs": [
    {
     "data": {
      "text/latex": [
       "$367.25003 \\; \\mathrm{\\frac{km}{s}}$"
      ],
      "text/plain": [
       "<Quantity 367.25002810773105 km / s>"
      ]
     },
     "execution_count": 77,
     "metadata": {},
     "output_type": "execute_result"
    }
   ],
   "source": [
    "dw = np.diff(np.log10(wav)).mean()\n",
    "dv = c.to('km/s') * (1. - 10. ** -dw)\n",
    "dv"
   ]
  },
  {
   "cell_type": "code",
   "execution_count": 81,
   "metadata": {
    "collapsed": false
   },
   "outputs": [
    {
     "name": "stdout",
     "output_type": "stream",
     "text": [
      "/home/lc585/thesis/code/chapter02\n"
     ]
    }
   ],
   "source": [
    "cd /home/lc585/thesis/code/chapter02/\n"
   ]
  },
  {
   "cell_type": "code",
   "execution_count": 94,
   "metadata": {
    "collapsed": false
   },
   "outputs": [],
   "source": [
    "import pandas as pd\n",
    "pd.options.display.max_rows = 999"
   ]
  },
  {
   "cell_type": "code",
   "execution_count": 95,
   "metadata": {
    "collapsed": true
   },
   "outputs": [],
   "source": [
    "from __future__ import division"
   ]
  },
  {
   "cell_type": "code",
   "execution_count": 103,
   "metadata": {
    "collapsed": false
   },
   "outputs": [
    {
     "name": "stdout",
     "output_type": "stream",
     "text": [
      "0.76267281106\n",
      "0.546082949309\n",
      "0.859447004608\n",
      "0.841013824885\n",
      "0.859447004608\n"
     ]
    }
   ],
   "source": [
    "df = cut_table()\n",
    "df.drop_duplicates(subset=['ID'], inplace=True)\n",
    "\n",
    "print len(df[df['psfMag_z'].notnull() | df['Viking_ZAperMag3'].notnull()]) / len(df)\n",
    "print len(df[df['VHS_YAperMag3'].notnull() | df['Viking_YAperMag3'].notnull() | df['UKIDSS_YAperMag3'].notnull()]) / len(df)\n",
    "print len(df[df['VHS_JAperMag3'].notnull() | df['Viking_JAperMag3'].notnull() | df['UKIDSS_J_1AperMag3'].notnull() | df['2massMag_j'].notnull() ]) / len(df)\n",
    "print len(df[df['VHS_HAperMag3'].notnull() | df['Viking_HAperMag3'].notnull() | df['UKIDSS_HAperMag3'].notnull() | df['2massMag_h'].notnull() ]) / len(df)\n",
    "print len(df[df['VHS_KAperMag3'].notnull() | df['Viking_KsAperMag3'].notnull() | df['UKIDSS_KAperMag3'].notnull() | df['2massMag_k'].notnull() ]) / len(df)"
   ]
  },
  {
   "cell_type": "code",
   "execution_count": null,
   "metadata": {
    "collapsed": true
   },
   "outputs": [],
   "source": []
  }
 ],
 "metadata": {
  "kernelspec": {
   "display_name": "Python 2",
   "language": "python",
   "name": "python2"
  },
  "language_info": {
   "codemirror_mode": {
    "name": "ipython",
    "version": 2
   },
   "file_extension": ".py",
   "mimetype": "text/x-python",
   "name": "python",
   "nbconvert_exporter": "python",
   "pygments_lexer": "ipython2",
   "version": "2.7.8"
  }
 },
 "nbformat": 4,
 "nbformat_minor": 0
}
