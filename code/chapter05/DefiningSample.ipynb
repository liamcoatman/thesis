{
 "cells": [
  {
   "cell_type": "code",
   "execution_count": 85,
   "metadata": {
    "collapsed": true
   },
   "outputs": [],
   "source": [
    "import matplotlib.pyplot as plt\n",
    "from astropy.table import Table, join  \n",
    "import numpy as np\n",
    "import collections\n",
    "import numpy.ma as ma \n",
    "import brewer2mpl\n",
    "from scipy.interpolate import interp1d \n",
    "\n",
    "%matplotlib inline"
   ]
  },
  {
   "cell_type": "code",
   "execution_count": 59,
   "metadata": {
    "collapsed": false
   },
   "outputs": [
    {
     "name": "stdout",
     "output_type": "stream",
     "text": [
      "63855\n"
     ]
    }
   ],
   "source": [
    "dr7dat = Table.read('/data/sdss/DR7/dr7qso.fit') \n",
    "print len(dr7dat[dr7dat['IMAG'] < 19.1])"
   ]
  },
  {
   "cell_type": "code",
   "execution_count": 72,
   "metadata": {
    "collapsed": false
   },
   "outputs": [],
   "source": [
    "# Main DR7Q\n",
    "dr7dat = Table.read('/data/sdss/DR7/dr7qso.fit')\n",
    "\n",
    "# Shen catalog\n",
    "shendat = Table.read('/data/lc585/SDSS/dr7_bh_Nov19_2013.fits')\n",
    "\n",
    "dr7dat['UMAG_DERED_SHEN'] = shendat['UGRIZ_DERED'][:,0]\n",
    "dr7dat['GMAG_DERED_SHEN'] = shendat['UGRIZ_DERED'][:,1]\n",
    "dr7dat['RMAG_DERED_SHEN'] = shendat['UGRIZ_DERED'][:,2]\n",
    "dr7dat['IMAG_DERED_SHEN'] = shendat['UGRIZ_DERED'][:,3]\n",
    "dr7dat['ZMAG_DERED_SHEN'] = shendat['UGRIZ_DERED'][:,4]\n",
    "dr7dat['LOGLBOL'] = shendat['LOGLBOL']\n",
    "\n",
    "# Calculate extinction\n",
    "with open('/home/lc585/Dropbox/IoA/QSOSED/Model/extcur/gal3ext.sph') as f:\n",
    "    exttmp = Table.read(f,format='ascii')\n",
    "    \n",
    "ext = interp1d(exttmp['col1'],exttmp['col2'])\n",
    "\n",
    "dr7dat['UMAG_DERED'] = np.zeros(len(dr7dat))\n",
    "dr7dat['GMAG_DERED'] = np.zeros(len(dr7dat)) \n",
    "dr7dat['RMAG_DERED'] = np.zeros(len(dr7dat)) \n",
    "dr7dat['IMAG_DERED'] = np.zeros(len(dr7dat)) \n",
    "dr7dat['ZMAG_DERED'] = np.zeros(len(dr7dat)) \n",
    "\n",
    "for i,row in enumerate(dr7dat):\n",
    "    \n",
    "    ebv = row['AU'] / (ext(3546.0) + 3.1)\n",
    "    \n",
    "    row['UMAG_DERED'] = row['UMAG'] - ebv * ( ext(3546.0) + 3.1 ) \n",
    "    row['GMAG_DERED'] = row['GMAG'] - ebv * ( ext(4670.0) + 3.1 )  \n",
    "    row['RMAG_DERED'] = row['RMAG'] - ebv * ( ext(6156.0) + 3.1 )  \n",
    "    row['IMAG_DERED'] = row['IMAG'] - ebv * ( ext(7471.0) + 3.1 ) \n",
    "    row['ZMAG_DERED'] = row['ZMAG'] - ebv * ( ext(8918.0) + 3.1 )  \n",
    "\n",
    "# ULAS dat\n",
    "ulasdat = np.genfromtxt('/data/mbanerji/Projects/QSO/DR7QSO/DR7QSO_ULASDR9_ABmags.cat')\n",
    "ulasbestid = np.genfromtxt('/data/mbanerji/Projects/QSO/DR7QSO/DR7QSO_ULASDR9_ABmags.cat',usecols=1,dtype='str')\n",
    "\n",
    "ulastab = Table()\n",
    "ulastab['BESTID'] = ulasbestid \n",
    "ulastab['UKIDSS_YMAG'] = ulasdat[:,9] \n",
    "ulastab['UKIDSS_JMAG'] = ulasdat[:,10] \n",
    "ulastab['UKIDSS_HMAG'] = ulasdat[:,11] \n",
    "ulastab['UKIDSS_KMAG'] = ulasdat[:,12] \n",
    "ulastab['UKIDSS_YMAG_ERR'] = ulasdat[:,18] \n",
    "ulastab['UKIDSS_JMAG_ERR'] = ulasdat[:,19] \n",
    "ulastab['UKIDSS_HMAG_ERR'] = ulasdat[:,20] \n",
    "ulastab['UKIDSS_KMAG_ERR'] = ulasdat[:,21] \n",
    "ulastab['UKIDSS_YSNR'] = 1.0 / (ulasdat[:,18] * 0.4 * np.log(10) )\n",
    "ulastab['UKIDSS_JSNR'] = 1.0 / (ulasdat[:,19] * 0.4 * np.log(10) )\n",
    "ulastab['UKIDSS_HSNR'] = 1.0 / (ulasdat[:,20] * 0.4 * np.log(10) ) \n",
    "ulastab['UKIDSS_KSNR'] = 1.0 / (ulasdat[:,21] * 0.4 * np.log(10) )\n",
    "\n",
    "newtable1 = join(dr7dat, ulastab, join_type='left', keys='BESTID')\n",
    "\n",
    "newtab = Table()\n",
    "newtab['UKIDSS_YMAG_DERED'] = np.zeros(len(newtable1)) \n",
    "newtab['UKIDSS_JMAG_DERED'] = np.zeros(len(newtable1)) \n",
    "newtab['UKIDSS_HMAG_DERED'] = np.zeros(len(newtable1)) \n",
    "newtab['UKIDSS_KMAG_DERED'] = np.zeros(len(newtable1)) \n",
    "\n",
    "for i in range(len(newtable1)):\n",
    "    \n",
    "    ebv = newtable1['AU'][i] / (ext(3546.0) + 3.1)\n",
    "    \n",
    "    newtab['UKIDSS_YMAG_DERED'][i] = newtable1['UKIDSS_YMAG'][i] - ebv * ( ext(10305.0) + 3.1 )  \n",
    "    newtab['UKIDSS_JMAG_DERED'][i] = newtable1['UKIDSS_JMAG'][i] - ebv * ( ext(12483.0) + 3.1 )  \n",
    "    newtab['UKIDSS_HMAG_DERED'][i] = newtable1['UKIDSS_HMAG'][i] - ebv * ( ext(16313.0) + 3.1 )  \n",
    "    newtab['UKIDSS_KMAG_DERED'][i] = newtable1['UKIDSS_KMAG'][i] - ebv * ( ext(22010.0) + 3.1 )  \n",
    "\n",
    "newtable1['UKIDSS_YMAG_DERED'] = newtab['UKIDSS_YMAG_DERED']\n",
    "newtable1['UKIDSS_JMAG_DERED'] = newtab['UKIDSS_JMAG_DERED']\n",
    "newtable1['UKIDSS_HMAG_DERED'] = newtab['UKIDSS_HMAG_DERED']\n",
    "newtable1['UKIDSS_KMAG_DERED'] = newtab['UKIDSS_KMAG_DERED']\n",
    "\n",
    "# Manda matched DR7Q to ALLWISE \n",
    "wisedat = Table.read('/data/sdss/DR7/AllWISE/DR7QSO_AllWISE_matched.fits')\n",
    "\n",
    "wisetab = Table()\n",
    "wisetab['SDSSJ'] = wisedat['SDSSJ']\n",
    "wisetab['BESTID'] = wisedat['BESTID']\n",
    "wisetab['ALLWISE_RA'] = wisedat['ALLWISE_RA']\n",
    "wisetab['ALLWISE_DEC'] = wisedat['ALLWISE_DEC']\n",
    "wisetab['W1MPRO_ALLWISE'] = wisedat['W1MPRO_ALLWISE']\n",
    "wisetab['W1SIGMPRO_ALLWISE'] = wisedat['W1SIGMPRO_ALLWISE']\n",
    "wisetab['W1SNR_ALLWISE'] = wisedat['W1SNR_ALLWISE']\n",
    "wisetab['W2MPRO_ALLWISE'] = wisedat['W2MPRO_ALLWISE']\n",
    "wisetab['W2SIGMPRO_ALLWISE'] = wisedat['W2SIGMPRO_ALLWISE']\n",
    "wisetab['W2SNR_ALLWISE'] = wisedat['W2SNR_ALLWISE']\n",
    "wisetab['W3MPRO_ALLWISE'] = wisedat['W3MPRO_ALLWISE']\n",
    "wisetab['W3SIGMPRO_ALLWISE'] = wisedat['W3SIGMPRO_ALLWISE']\n",
    "wisetab['W3SNR_ALLWISE'] = wisedat['W3SNR_ALLWISE']\n",
    "wisetab['W4MPRO_ALLWISE'] = wisedat['W4MPRO_ALLWISE']\n",
    "wisetab['W4SIGMPRO_ALLWISE'] = wisedat['W4SIGMPRO_ALLWISE']\n",
    "wisetab['W4SNR_ALLWISE'] = wisedat['W4SNR_ALLWISE']\n",
    "\n",
    "newtable2 = join(newtable1, wisetab, join_type='left', keys='SDSSJ')\n",
    "\n",
    "duplicates = [x for x, y in collections.Counter(newtable2['SDSSJ']).items() if y > 1]\n",
    "inds = np.where( (newtable2['SDSSJ'] <> duplicates[0])  & (newtable2['SDSSJ'] <> duplicates[1]) )[0]\n",
    "\n",
    "newtable2 = Table(newtable2[inds])\n",
    "\n",
    "# Other properties of quasars \n",
    "# SpecObjID\n",
    "# Object Name (made up from the ra and dec of the object)\n",
    "# redshift (improved from the Hewett & Wild 2010 scheme)\n",
    "# redshift error\n",
    "# FIRST radio-detection code (-1=not detected; 0=not in FIRST footprint; 1=FIRST-detected)\n",
    "# BAL quasar code (0=not a BAL; 1=BAL - mostly from Allen et al. 2011) \n",
    "\n",
    "qsotab = Table()\n",
    "qsotab['SPECOID'] = np.genfromtxt('/data/vault/phewett/DR7/liam_f01.lis',usecols=0,dtype='str')\n",
    "qsotab['OBJNAME'] = np.genfromtxt('/data/vault/phewett/DR7/liam_f01.lis',usecols=1,dtype='str')\n",
    "qsotab['Z_HEWETT'] = np.genfromtxt('/data/vault/phewett/DR7/liam_f01.lis',usecols=2)\n",
    "qsotab['Z_HEWETT_ERR'] = np.genfromtxt('/data/vault/phewett/DR7/liam_f01.lis',usecols=3)\n",
    "qsotab['FIRST_FLG'] = np.genfromtxt('/data/vault/phewett/DR7/liam_f01.lis',usecols=4,dtype='int')\n",
    "qsotab['BALFLG'] = np.genfromtxt('/data/vault/phewett/DR7/liam_f01.lis',usecols=5,dtype='int')\n",
    "\n",
    "newtable3 = join(newtable2, qsotab, join_type='left', keys='SPECOID')\n"
   ]
  },
  {
   "cell_type": "code",
   "execution_count": 94,
   "metadata": {
    "collapsed": false
   },
   "outputs": [
    {
     "name": "stdout",
     "output_type": "stream",
     "text": [
      "20954\n",
      "20665\n",
      "19853\n"
     ]
    }
   ],
   "source": [
    "# How many cross-matched \n",
    "t = newtable3[~newtable3['UKIDSS_YMAG'].mask]\n",
    "t = t[t['IMAG'] < 19.1]\n",
    "\n",
    "# No magnitudes\n",
    "bad = (t['UKIDSS_YMAG'] < 0.0) & (t['UKIDSS_JMAG'] < 0.0) & (t['UKIDSS_HMAG'] < 0.0) & (t['UKIDSS_KMAG'] < 0.0)\n",
    "t = t[~bad]\n",
    "\n",
    "print len(t)\n",
    "t = t[~t['W1MPRO_ALLWISE'].mask]\n",
    "print len(t)\n",
    "\n",
    "# t = t[t['BALFLG' != 1]]\n",
    "\n",
    "t = t[t['BALFLG'] != 1]\n",
    "\n",
    "print len(t)\n",
    "\n",
    "\n",
    "t.write('/data/lc585/SDSS/matched_catalogue.fits')"
   ]
  },
  {
   "cell_type": "code",
   "execution_count": 93,
   "metadata": {
    "collapsed": false
   },
   "outputs": [
    {
     "data": {
      "text/plain": [
       "[<matplotlib.lines.Line2D at 0x7f901e31df10>]"
      ]
     },
     "execution_count": 93,
     "metadata": {},
     "output_type": "execute_result"
    },
    {
     "data": {
      "image/png": "[encoded data removed]",
      "text/plain": [
       "<matplotlib.figure.Figure at 0x7f901e58e410>"
      ]
     },
     "metadata": {},
     "output_type": "display_data"
    }
   ],
   "source": [
    "fig, ax = plt.subplots()\n",
    "t = t[t['LOGLBOL'] > 20]\n",
    "\n",
    "ax.plot(t['Z_HEWETT'], \n",
    "        t['LOGLBOL'], \n",
    "        linestyle='', \n",
    "        marker='o',\n",
    "        markersize=1,\n",
    "        markerfacecolor='black',\n",
    "        markeredgecolor='None')"
   ]
  },
  {
   "cell_type": "code",
   "execution_count": 31,
   "metadata": {
    "collapsed": false
   },
   "outputs": [],
   "source": [
    "shendat = Table.read('/data/lc585/SDSS/dr7_bh_Nov19_2013.fits')\n",
    "\n",
    "t1 = Table()\n",
    "t1['SDSSJ'] = shendat['SDSS_NAME']\n",
    "t1['IMAG_SHEN'] = shendat['UGRIZ'][:, 3]\n",
    "t1['LOGLBOL_SHEN'] = shendat['LOGLBOL']\n",
    "\n",
    "dr7dat = Table.read('/data/sdss/DR7/dr7qso.fit')\n",
    "\n",
    "dr7dat = join(dr7dat, t1, join_type='left', keys='SDSSJ')\n",
    "\n",
    "ulasdat = np.genfromtxt('/data/mbanerji/Projects/QSO/DR7QSO/DR7QSO_ULASDR9_ABmags.cat')\n",
    "ulasbestid = np.genfromtxt('/data/mbanerji/Projects/QSO/DR7QSO/DR7QSO_ULASDR9_ABmags.cat',usecols=1,dtype='str')\n",
    "\n",
    "ulastab = Table()\n",
    "ulastab['BESTID'] = ulasbestid \n",
    "ulastab['UKIDSS_YMAG'] = ulasdat[:,9] \n",
    "ulastab['UKIDSS_JMAG'] = ulasdat[:,10] \n",
    "ulastab['UKIDSS_HMAG'] = ulasdat[:,11] \n",
    "ulastab['UKIDSS_KMAG'] = ulasdat[:,12] \n",
    "ulastab['UKIDSS_YMAG_ERR'] = ulasdat[:,18] \n",
    "ulastab['UKIDSS_JMAG_ERR'] = ulasdat[:,19] \n",
    "ulastab['UKIDSS_HMAG_ERR'] = ulasdat[:,20] \n",
    "ulastab['UKIDSS_KMAG_ERR'] = ulasdat[:,21] \n",
    "ulastab['UKIDSS_YSNR'] = 1.0 / (ulasdat[:,18] * 0.4 * np.log(10) )\n",
    "ulastab['UKIDSS_JSNR'] = 1.0 / (ulasdat[:,19] * 0.4 * np.log(10) )\n",
    "ulastab['UKIDSS_HSNR'] = 1.0 / (ulasdat[:,20] * 0.4 * np.log(10) ) \n",
    "ulastab['UKIDSS_KSNR'] = 1.0 / (ulasdat[:,21] * 0.4 * np.log(10) )\n",
    "\n",
    "dr7dat = join(dr7dat, ulastab, join_type='left', keys='BESTID')\n",
    "\n"
   ]
  },
  {
   "cell_type": "code",
   "execution_count": 50,
   "metadata": {
    "collapsed": false
   },
   "outputs": [
    {
     "name": "stdout",
     "output_type": "stream",
     "text": [
      "(array([13658, 21566, 24336, 24357, 36281]),)\n"
     ]
    }
   ],
   "source": [
    "t = dr7dat[~dr7dat['UKIDSS_YMAG'].mask]\n",
    "bad = (t['UKIDSS_YMAG'] < 0.0) & (t['UKIDSS_JMAG'] < 0.0) & (t['UKIDSS_HMAG'] < 0.0) & (t['UKIDSS_KMAG'] < 0.0)\n",
    "\n",
    "\n",
    "\n"
   ]
  },
  {
   "cell_type": "code",
   "execution_count": 55,
   "metadata": {
    "collapsed": false
   },
   "outputs": [],
   "source": [
    "# Main DR7Q\n",
    "dr7dat = Table.read('/data/sdss/DR7/dr7qso.fit')\n",
    "\n",
    "# Shen catalog\n",
    "shendat = Table.read('/data/lc585/SDSS/dr7_bh_Nov19_2013.fits')\n",
    "\n",
    "for i in range(len(dr7dat)):\n",
    "    if dr7dat['SDSSJ'][i] != shendat['SDSS_NAME'][i]:\n",
    "        print i, dr7dat['SDSSJ'][i]"
   ]
  }
 ],
 "metadata": {
  "kernelspec": {
   "display_name": "Python 2",
   "language": "python",
   "name": "python2"
  },
  "language_info": {
   "codemirror_mode": {
    "name": "ipython",
    "version": 2
   },
   "file_extension": ".py",
   "mimetype": "text/x-python",
   "name": "python",
   "nbconvert_exporter": "python",
   "pygments_lexer": "ipython2",
   "version": "2.7.8"
  }
 },
 "nbformat": 4,
 "nbformat_minor": 0
}
