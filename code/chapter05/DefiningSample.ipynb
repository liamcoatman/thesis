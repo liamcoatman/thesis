{
 "cells": [
  {
   "cell_type": "code",
   "execution_count": 1,
   "metadata": {
    "collapsed": true
   },
   "outputs": [],
   "source": [
    "import matplotlib.pyplot as plt\n",
    "from astropy.table import Table, join  \n",
    "import numpy as np\n",
    "import collections\n",
    "import numpy.ma as ma \n",
    "import brewer2mpl\n",
    "from scipy.interpolate import interp1d \n",
    "import pandas as pd \n",
    "\n",
    "%matplotlib inline"
   ]
  },
  {
   "cell_type": "code",
   "execution_count": 59,
   "metadata": {
    "collapsed": false
   },
   "outputs": [
    {
     "name": "stdout",
     "output_type": "stream",
     "text": [
      "63855\n"
     ]
    }
   ],
   "source": [
    "dr7dat = Table.read('/data/sdss/DR7/dr7qso.fit') \n",
    "print len(dr7dat[dr7dat['IMAG'] < 19.1])"
   ]
  },
  {
   "cell_type": "code",
   "execution_count": 72,
   "metadata": {
    "collapsed": false
   },
   "outputs": [],
   "source": [
    "# Main DR7Q\n",
    "dr7dat = Table.read('/data/sdss/DR7/dr7qso.fit')\n",
    "\n",
    "# Shen catalog\n",
    "shendat = Table.read('/data/lc585/SDSS/dr7_bh_Nov19_2013.fits')\n",
    "\n",
    "dr7dat['UMAG_DERED_SHEN'] = shendat['UGRIZ_DERED'][:,0]\n",
    "dr7dat['GMAG_DERED_SHEN'] = shendat['UGRIZ_DERED'][:,1]\n",
    "dr7dat['RMAG_DERED_SHEN'] = shendat['UGRIZ_DERED'][:,2]\n",
    "dr7dat['IMAG_DERED_SHEN'] = shendat['UGRIZ_DERED'][:,3]\n",
    "dr7dat['ZMAG_DERED_SHEN'] = shendat['UGRIZ_DERED'][:,4]\n",
    "dr7dat['LOGLBOL'] = shendat['LOGLBOL']\n",
    "\n",
    "# Calculate extinction\n",
    "with open('/home/lc585/Dropbox/IoA/QSOSED/Model/extcur/gal3ext.sph') as f:\n",
    "    exttmp = Table.read(f,format='ascii')\n",
    "    \n",
    "ext = interp1d(exttmp['col1'],exttmp['col2'])\n",
    "\n",
    "dr7dat['UMAG_DERED'] = np.zeros(len(dr7dat))\n",
    "dr7dat['GMAG_DERED'] = np.zeros(len(dr7dat)) \n",
    "dr7dat['RMAG_DERED'] = np.zeros(len(dr7dat)) \n",
    "dr7dat['IMAG_DERED'] = np.zeros(len(dr7dat)) \n",
    "dr7dat['ZMAG_DERED'] = np.zeros(len(dr7dat)) \n",
    "\n",
    "for i,row in enumerate(dr7dat):\n",
    "    \n",
    "    ebv = row['AU'] / (ext(3546.0) + 3.1)\n",
    "    \n",
    "    row['UMAG_DERED'] = row['UMAG'] - ebv * ( ext(3546.0) + 3.1 ) \n",
    "    row['GMAG_DERED'] = row['GMAG'] - ebv * ( ext(4670.0) + 3.1 )  \n",
    "    row['RMAG_DERED'] = row['RMAG'] - ebv * ( ext(6156.0) + 3.1 )  \n",
    "    row['IMAG_DERED'] = row['IMAG'] - ebv * ( ext(7471.0) + 3.1 ) \n",
    "    row['ZMAG_DERED'] = row['ZMAG'] - ebv * ( ext(8918.0) + 3.1 )  \n",
    "\n",
    "# ULAS dat\n",
    "ulasdat = np.genfromtxt('/data/mbanerji/Projects/QSO/DR7QSO/DR7QSO_ULASDR9_ABmags.cat')\n",
    "ulasbestid = np.genfromtxt('/data/mbanerji/Projects/QSO/DR7QSO/DR7QSO_ULASDR9_ABmags.cat',usecols=1,dtype='str')\n",
    "\n",
    "ulastab = Table()\n",
    "ulastab['BESTID'] = ulasbestid \n",
    "ulastab['UKIDSS_YMAG'] = ulasdat[:,9] \n",
    "ulastab['UKIDSS_JMAG'] = ulasdat[:,10] \n",
    "ulastab['UKIDSS_HMAG'] = ulasdat[:,11] \n",
    "ulastab['UKIDSS_KMAG'] = ulasdat[:,12] \n",
    "ulastab['UKIDSS_YMAG_ERR'] = ulasdat[:,18] \n",
    "ulastab['UKIDSS_JMAG_ERR'] = ulasdat[:,19] \n",
    "ulastab['UKIDSS_HMAG_ERR'] = ulasdat[:,20] \n",
    "ulastab['UKIDSS_KMAG_ERR'] = ulasdat[:,21] \n",
    "ulastab['UKIDSS_YSNR'] = 1.0 / (ulasdat[:,18] * 0.4 * np.log(10) )\n",
    "ulastab['UKIDSS_JSNR'] = 1.0 / (ulasdat[:,19] * 0.4 * np.log(10) )\n",
    "ulastab['UKIDSS_HSNR'] = 1.0 / (ulasdat[:,20] * 0.4 * np.log(10) ) \n",
    "ulastab['UKIDSS_KSNR'] = 1.0 / (ulasdat[:,21] * 0.4 * np.log(10) )\n",
    "\n",
    "newtable1 = join(dr7dat, ulastab, join_type='left', keys='BESTID')\n",
    "\n",
    "newtab = Table()\n",
    "newtab['UKIDSS_YMAG_DERED'] = np.zeros(len(newtable1)) \n",
    "newtab['UKIDSS_JMAG_DERED'] = np.zeros(len(newtable1)) \n",
    "newtab['UKIDSS_HMAG_DERED'] = np.zeros(len(newtable1)) \n",
    "newtab['UKIDSS_KMAG_DERED'] = np.zeros(len(newtable1)) \n",
    "\n",
    "for i in range(len(newtable1)):\n",
    "    \n",
    "    ebv = newtable1['AU'][i] / (ext(3546.0) + 3.1)\n",
    "    \n",
    "    newtab['UKIDSS_YMAG_DERED'][i] = newtable1['UKIDSS_YMAG'][i] - ebv * ( ext(10305.0) + 3.1 )  \n",
    "    newtab['UKIDSS_JMAG_DERED'][i] = newtable1['UKIDSS_JMAG'][i] - ebv * ( ext(12483.0) + 3.1 )  \n",
    "    newtab['UKIDSS_HMAG_DERED'][i] = newtable1['UKIDSS_HMAG'][i] - ebv * ( ext(16313.0) + 3.1 )  \n",
    "    newtab['UKIDSS_KMAG_DERED'][i] = newtable1['UKIDSS_KMAG'][i] - ebv * ( ext(22010.0) + 3.1 )  \n",
    "\n",
    "newtable1['UKIDSS_YMAG_DERED'] = newtab['UKIDSS_YMAG_DERED']\n",
    "newtable1['UKIDSS_JMAG_DERED'] = newtab['UKIDSS_JMAG_DERED']\n",
    "newtable1['UKIDSS_HMAG_DERED'] = newtab['UKIDSS_HMAG_DERED']\n",
    "newtable1['UKIDSS_KMAG_DERED'] = newtab['UKIDSS_KMAG_DERED']\n",
    "\n",
    "# Manda matched DR7Q to ALLWISE \n",
    "wisedat = Table.read('/data/sdss/DR7/AllWISE/DR7QSO_AllWISE_matched.fits')\n",
    "\n",
    "wisetab = Table()\n",
    "wisetab['SDSSJ'] = wisedat['SDSSJ']\n",
    "wisetab['BESTID'] = wisedat['BESTID']\n",
    "wisetab['ALLWISE_RA'] = wisedat['ALLWISE_RA']\n",
    "wisetab['ALLWISE_DEC'] = wisedat['ALLWISE_DEC']\n",
    "wisetab['W1MPRO_ALLWISE'] = wisedat['W1MPRO_ALLWISE']\n",
    "wisetab['W1SIGMPRO_ALLWISE'] = wisedat['W1SIGMPRO_ALLWISE']\n",
    "wisetab['W1SNR_ALLWISE'] = wisedat['W1SNR_ALLWISE']\n",
    "wisetab['W2MPRO_ALLWISE'] = wisedat['W2MPRO_ALLWISE']\n",
    "wisetab['W2SIGMPRO_ALLWISE'] = wisedat['W2SIGMPRO_ALLWISE']\n",
    "wisetab['W2SNR_ALLWISE'] = wisedat['W2SNR_ALLWISE']\n",
    "wisetab['W3MPRO_ALLWISE'] = wisedat['W3MPRO_ALLWISE']\n",
    "wisetab['W3SIGMPRO_ALLWISE'] = wisedat['W3SIGMPRO_ALLWISE']\n",
    "wisetab['W3SNR_ALLWISE'] = wisedat['W3SNR_ALLWISE']\n",
    "wisetab['W4MPRO_ALLWISE'] = wisedat['W4MPRO_ALLWISE']\n",
    "wisetab['W4SIGMPRO_ALLWISE'] = wisedat['W4SIGMPRO_ALLWISE']\n",
    "wisetab['W4SNR_ALLWISE'] = wisedat['W4SNR_ALLWISE']\n",
    "\n",
    "newtable2 = join(newtable1, wisetab, join_type='left', keys='SDSSJ')\n",
    "\n",
    "duplicates = [x for x, y in collections.Counter(newtable2['SDSSJ']).items() if y > 1]\n",
    "inds = np.where( (newtable2['SDSSJ'] <> duplicates[0])  & (newtable2['SDSSJ'] <> duplicates[1]) )[0]\n",
    "\n",
    "newtable2 = Table(newtable2[inds])\n",
    "\n",
    "# Other properties of quasars \n",
    "# SpecObjID\n",
    "# Object Name (made up from the ra and dec of the object)\n",
    "# redshift (improved from the Hewett & Wild 2010 scheme)\n",
    "# redshift error\n",
    "# FIRST radio-detection code (-1=not detected; 0=not in FIRST footprint; 1=FIRST-detected)\n",
    "# BAL quasar code (0=not a BAL; 1=BAL - mostly from Allen et al. 2011) \n",
    "\n",
    "qsotab = Table()\n",
    "qsotab['SPECOID'] = np.genfromtxt('/data/vault/phewett/DR7/liam_f01.lis',usecols=0,dtype='str')\n",
    "qsotab['OBJNAME'] = np.genfromtxt('/data/vault/phewett/DR7/liam_f01.lis',usecols=1,dtype='str')\n",
    "qsotab['Z_HEWETT'] = np.genfromtxt('/data/vault/phewett/DR7/liam_f01.lis',usecols=2)\n",
    "qsotab['Z_HEWETT_ERR'] = np.genfromtxt('/data/vault/phewett/DR7/liam_f01.lis',usecols=3)\n",
    "qsotab['FIRST_FLG'] = np.genfromtxt('/data/vault/phewett/DR7/liam_f01.lis',usecols=4,dtype='int')\n",
    "qsotab['BALFLG'] = np.genfromtxt('/data/vault/phewett/DR7/liam_f01.lis',usecols=5,dtype='int')\n",
    "\n",
    "newtable3 = join(newtable2, qsotab, join_type='left', keys='SPECOID')\n"
   ]
  },
  {
   "cell_type": "code",
   "execution_count": 94,
   "metadata": {
    "collapsed": false
   },
   "outputs": [
    {
     "name": "stdout",
     "output_type": "stream",
     "text": [
      "20954\n",
      "20665\n",
      "19853\n"
     ]
    }
   ],
   "source": [
    "# How many cross-matched \n",
    "t = newtable3[~newtable3['UKIDSS_YMAG'].mask]\n",
    "t = t[t['IMAG'] < 19.1]\n",
    "\n",
    "# No magnitudes\n",
    "bad = (t['UKIDSS_YMAG'] < 0.0) & (t['UKIDSS_JMAG'] < 0.0) & (t['UKIDSS_HMAG'] < 0.0) & (t['UKIDSS_KMAG'] < 0.0)\n",
    "t = t[~bad]\n",
    "\n",
    "print len(t)\n",
    "t = t[~t['W1MPRO_ALLWISE'].mask]\n",
    "print len(t)\n",
    "\n",
    "# t = t[t['BALFLG' != 1]]\n",
    "\n",
    "t = t[t['BALFLG'] != 1]\n",
    "\n",
    "print len(t)\n",
    "\n",
    "\n",
    "t.write('/data/lc585/SDSS/matched_catalogue.fits')"
   ]
  },
  {
   "cell_type": "code",
   "execution_count": 31,
   "metadata": {
    "collapsed": false
   },
   "outputs": [],
   "source": [
    "shendat = Table.read('/data/lc585/SDSS/dr7_bh_Nov19_2013.fits')\n",
    "\n",
    "t1 = Table()\n",
    "t1['SDSSJ'] = shendat['SDSS_NAME']\n",
    "t1['IMAG_SHEN'] = shendat['UGRIZ'][:, 3]\n",
    "t1['LOGLBOL_SHEN'] = shendat['LOGLBOL']\n",
    "\n",
    "dr7dat = Table.read('/data/sdss/DR7/dr7qso.fit')\n",
    "\n",
    "dr7dat = join(dr7dat, t1, join_type='left', keys='SDSSJ')\n",
    "\n",
    "ulasdat = np.genfromtxt('/data/mbanerji/Projects/QSO/DR7QSO/DR7QSO_ULASDR9_ABmags.cat')\n",
    "ulasbestid = np.genfromtxt('/data/mbanerji/Projects/QSO/DR7QSO/DR7QSO_ULASDR9_ABmags.cat',usecols=1,dtype='str')\n",
    "\n",
    "ulastab = Table()\n",
    "ulastab['BESTID'] = ulasbestid \n",
    "ulastab['UKIDSS_YMAG'] = ulasdat[:,9] \n",
    "ulastab['UKIDSS_JMAG'] = ulasdat[:,10] \n",
    "ulastab['UKIDSS_HMAG'] = ulasdat[:,11] \n",
    "ulastab['UKIDSS_KMAG'] = ulasdat[:,12] \n",
    "ulastab['UKIDSS_YMAG_ERR'] = ulasdat[:,18] \n",
    "ulastab['UKIDSS_JMAG_ERR'] = ulasdat[:,19] \n",
    "ulastab['UKIDSS_HMAG_ERR'] = ulasdat[:,20] \n",
    "ulastab['UKIDSS_KMAG_ERR'] = ulasdat[:,21] \n",
    "ulastab['UKIDSS_YSNR'] = 1.0 / (ulasdat[:,18] * 0.4 * np.log(10) )\n",
    "ulastab['UKIDSS_JSNR'] = 1.0 / (ulasdat[:,19] * 0.4 * np.log(10) )\n",
    "ulastab['UKIDSS_HSNR'] = 1.0 / (ulasdat[:,20] * 0.4 * np.log(10) ) \n",
    "ulastab['UKIDSS_KSNR'] = 1.0 / (ulasdat[:,21] * 0.4 * np.log(10) )\n",
    "\n",
    "dr7dat = join(dr7dat, ulastab, join_type='left', keys='BESTID')\n",
    "\n"
   ]
  },
  {
   "cell_type": "code",
   "execution_count": 50,
   "metadata": {
    "collapsed": false
   },
   "outputs": [
    {
     "name": "stdout",
     "output_type": "stream",
     "text": [
      "(array([13658, 21566, 24336, 24357, 36281]),)\n"
     ]
    }
   ],
   "source": [
    "t = dr7dat[~dr7dat['UKIDSS_YMAG'].mask]\n",
    "bad = (t['UKIDSS_YMAG'] < 0.0) & (t['UKIDSS_JMAG'] < 0.0) & (t['UKIDSS_HMAG'] < 0.0) & (t['UKIDSS_KMAG'] < 0.0)\n",
    "\n",
    "\n",
    "\n"
   ]
  },
  {
   "cell_type": "code",
   "execution_count": 55,
   "metadata": {
    "collapsed": false
   },
   "outputs": [],
   "source": [
    "# Main DR7Q\n",
    "dr7dat = Table.read('/data/sdss/DR7/dr7qso.fit')\n",
    "\n",
    "# Shen catalog\n",
    "shendat = Table.read('/data/lc585/SDSS/dr7_bh_Nov19_2013.fits')\n",
    "\n",
    "for i in range(len(dr7dat)):\n",
    "    if dr7dat['SDSSJ'][i] != shendat['SDSS_NAME'][i]:\n",
    "        print i, dr7dat['SDSSJ'][i]"
   ]
  },
  {
   "cell_type": "markdown",
   "metadata": {},
   "source": [
    "# New catalogue"
   ]
  },
  {
   "cell_type": "markdown",
   "metadata": {},
   "source": [
    "From Manda: \n",
    "\n",
    "Created by matching 'sdss7_qso_manda_141202.dat' with 107,194 objects to the UKIDSS-LAS Data Release 10 (matching radius of 2\") and the AllWISE catalogues (matching radius of 3\"). Note: the catalogue was then cross-matched to the SDSS DR7 Schneider et al. catalogue in order to get the optical photometry. The Schneider catalogue contains 105,783 objects so 373 objects were removed as they did not have counterparts in the Schneider catalogue. \n",
    "\n",
    "Columns are as follows:\n",
    "\n",
    "1. SDSS Name\n",
    "2. SDSS RA\n",
    "3. SDSS DEC\n",
    "4. Hewett & Wild redshift\n",
    "5. E(B-V)\n",
    "6. uAB\n",
    "7. gAB\n",
    "8. rAB\n",
    "9. iAB\n",
    "10. zAB\n",
    "11. YAB (converted from Vega using offset of +0.634)\n",
    "12. JAB (converted from Vega using offset of +0.938)\n",
    "13. HAB (converted from Vega using offset of +1.379)\n",
    "14. KAB (converted from Vega using offset of +1.900)\n",
    "15. W1AB (converted from Vega using offset of 2.699)\n",
    "16. W2AB (converted from Vega using offset of 3.339)\n",
    "17. W3AB (converted from Vega using offset of 5.174)\n",
    "18. W4AB (converted from Vega using offset of 6.620)\n",
    "19. uerr\n",
    "20. gerr\n",
    "21. rerr\n",
    "22. ierr\n",
    "23. zerr\n",
    "24. Yerr\n",
    "25. Jerr\n",
    "26. Herr\n",
    "27. Kerr\n",
    "28. W1err\n",
    "29. W2err\n",
    "30. W3err\n",
    "31. W4err\n",
    "32. W1 S/N\n",
    "33. W2 S/N\n",
    "34. W3 S/N\n",
    "35. W4 S/N\n",
    "\n",
    "UKIDSS photometry corresponds to the apermag3 values while WISE photometry is fr\n",
    "om profile fitting (w1mpro,w2mpro etc.) - see AllWISE Explanatory supplement. Lo\n",
    "w S/N WISE detections have errors on their magnitudes of 0.000 and in these case\n",
    "s, the AB magnitudes themselves correspond to 2-sigma upper limits."
   ]
  },
  {
   "cell_type": "code",
   "execution_count": 2,
   "metadata": {
    "collapsed": false
   },
   "outputs": [],
   "source": [
    "names = ['SDSS_Name',\n",
    "          'SDSS_RA',\n",
    "          'SDSS_DEC',\n",
    "          'z_HW',\n",
    "          'EBV',\n",
    "          'uAB',\n",
    "          'gAB',\n",
    "          'rAB',\n",
    "          'iAB',\n",
    "          'zAB',\n",
    "          'YAB',\n",
    "          'JAB',\n",
    "          'HAB',\n",
    "          'KAB',\n",
    "          'W1AB',\n",
    "          'W2AB',\n",
    "          'W3AB',\n",
    "          'W4AB',\n",
    "          'uerr',\n",
    "          'gerr',\n",
    "          'rerr',\n",
    "          'ierr',\n",
    "          'zerr',\n",
    "          'Yerr',\n",
    "          'Jerr',\n",
    "          'Herr',\n",
    "          'Kerr',\n",
    "          'W1err',\n",
    "          'W2err',\n",
    "          'W3err',\n",
    "          'W4err',\n",
    "          'W1SNR',\n",
    "          'W2SNR',\n",
    "          'W3SNR',\n",
    "          'W4SNR']\n",
    "fname = '/data/mbanerji/Projects/Quasar_SED_Paul/SDSSDR7_ULASDR10_AllWISE_ABmags_HWredshift'\n",
    "df = pd.read_csv(fname, delim_whitespace=True, names=names)"
   ]
  },
  {
   "cell_type": "code",
   "execution_count": 3,
   "metadata": {
    "collapsed": false
   },
   "outputs": [
    {
     "data": {
      "text/html": [
       "<div>\n",
       "<table border=\"1\" class=\"dataframe\">\n",
       "  <thead>\n",
       "    <tr style=\"text-align: right;\">\n",
       "      <th></th>\n",
       "      <th>SDSS_Name</th>\n",
       "      <th>SDSS_RA</th>\n",
       "      <th>SDSS_DEC</th>\n",
       "      <th>z_HW</th>\n",
       "      <th>EBV</th>\n",
       "      <th>uAB</th>\n",
       "      <th>gAB</th>\n",
       "      <th>rAB</th>\n",
       "      <th>iAB</th>\n",
       "      <th>zAB</th>\n",
       "      <th>...</th>\n",
       "      <th>Herr</th>\n",
       "      <th>Kerr</th>\n",
       "      <th>W1err</th>\n",
       "      <th>W2err</th>\n",
       "      <th>W3err</th>\n",
       "      <th>W4err</th>\n",
       "      <th>W1SNR</th>\n",
       "      <th>W2SNR</th>\n",
       "      <th>W3SNR</th>\n",
       "      <th>W4SNR</th>\n",
       "    </tr>\n",
       "  </thead>\n",
       "  <tbody>\n",
       "    <tr>\n",
       "      <th>0</th>\n",
       "      <td>SDSSJ215445.23-010858.9</td>\n",
       "      <td>328.6885</td>\n",
       "      <td>-1.1497</td>\n",
       "      <td>1.8922</td>\n",
       "      <td>0.1256</td>\n",
       "      <td>19.149</td>\n",
       "      <td>18.884</td>\n",
       "      <td>18.659</td>\n",
       "      <td>18.415</td>\n",
       "      <td>18.296</td>\n",
       "      <td>...</td>\n",
       "      <td>0.0489</td>\n",
       "      <td>0.0464</td>\n",
       "      <td>0.041</td>\n",
       "      <td>0.041</td>\n",
       "      <td>0.091</td>\n",
       "      <td>0.281</td>\n",
       "      <td>26.6</td>\n",
       "      <td>26.2</td>\n",
       "      <td>11.9</td>\n",
       "      <td>3.9</td>\n",
       "    </tr>\n",
       "    <tr>\n",
       "      <th>1</th>\n",
       "      <td>SDSSJ215655.13-000400.9</td>\n",
       "      <td>329.2297</td>\n",
       "      <td>-0.0669</td>\n",
       "      <td>1.6788</td>\n",
       "      <td>0.0651</td>\n",
       "      <td>20.798</td>\n",
       "      <td>20.386</td>\n",
       "      <td>20.187</td>\n",
       "      <td>19.830</td>\n",
       "      <td>19.877</td>\n",
       "      <td>...</td>\n",
       "      <td>0.1011</td>\n",
       "      <td>0.1081</td>\n",
       "      <td>0.064</td>\n",
       "      <td>0.072</td>\n",
       "      <td>0.222</td>\n",
       "      <td>0.000</td>\n",
       "      <td>17.1</td>\n",
       "      <td>15.0</td>\n",
       "      <td>4.9</td>\n",
       "      <td>0.5</td>\n",
       "    </tr>\n",
       "    <tr>\n",
       "      <th>2</th>\n",
       "      <td>SDSSJ215641.48-000404.3</td>\n",
       "      <td>329.1729</td>\n",
       "      <td>-0.0679</td>\n",
       "      <td>0.8957</td>\n",
       "      <td>0.0692</td>\n",
       "      <td>20.536</td>\n",
       "      <td>20.265</td>\n",
       "      <td>20.103</td>\n",
       "      <td>20.187</td>\n",
       "      <td>19.832</td>\n",
       "      <td>...</td>\n",
       "      <td>0.1633</td>\n",
       "      <td>0.1003</td>\n",
       "      <td>0.057</td>\n",
       "      <td>0.073</td>\n",
       "      <td>0.000</td>\n",
       "      <td>0.000</td>\n",
       "      <td>18.9</td>\n",
       "      <td>14.9</td>\n",
       "      <td>1.7</td>\n",
       "      <td>1.3</td>\n",
       "    </tr>\n",
       "    <tr>\n",
       "      <th>3</th>\n",
       "      <td>SDSSJ215355.57-005622.1</td>\n",
       "      <td>328.4816</td>\n",
       "      <td>-0.9395</td>\n",
       "      <td>1.9048</td>\n",
       "      <td>0.1231</td>\n",
       "      <td>19.692</td>\n",
       "      <td>19.749</td>\n",
       "      <td>19.613</td>\n",
       "      <td>19.162</td>\n",
       "      <td>19.042</td>\n",
       "      <td>...</td>\n",
       "      <td>0.0913</td>\n",
       "      <td>0.0851</td>\n",
       "      <td>0.056</td>\n",
       "      <td>0.092</td>\n",
       "      <td>0.370</td>\n",
       "      <td>0.000</td>\n",
       "      <td>19.5</td>\n",
       "      <td>11.9</td>\n",
       "      <td>2.9</td>\n",
       "      <td>1.1</td>\n",
       "    </tr>\n",
       "    <tr>\n",
       "      <th>4</th>\n",
       "      <td>SDSSJ215415.55-004820.1</td>\n",
       "      <td>328.5648</td>\n",
       "      <td>-0.8056</td>\n",
       "      <td>1.7279</td>\n",
       "      <td>0.1189</td>\n",
       "      <td>19.710</td>\n",
       "      <td>19.388</td>\n",
       "      <td>19.235</td>\n",
       "      <td>18.842</td>\n",
       "      <td>19.002</td>\n",
       "      <td>...</td>\n",
       "      <td>0.0801</td>\n",
       "      <td>0.0650</td>\n",
       "      <td>0.045</td>\n",
       "      <td>0.055</td>\n",
       "      <td>0.137</td>\n",
       "      <td>0.495</td>\n",
       "      <td>23.9</td>\n",
       "      <td>19.8</td>\n",
       "      <td>7.9</td>\n",
       "      <td>2.2</td>\n",
       "    </tr>\n",
       "  </tbody>\n",
       "</table>\n",
       "<p>5 rows × 35 columns</p>\n",
       "</div>"
      ],
      "text/plain": [
       "                 SDSS_Name   SDSS_RA  SDSS_DEC    z_HW     EBV     uAB  \\\n",
       "0  SDSSJ215445.23-010858.9  328.6885   -1.1497  1.8922  0.1256  19.149   \n",
       "1  SDSSJ215655.13-000400.9  329.2297   -0.0669  1.6788  0.0651  20.798   \n",
       "2  SDSSJ215641.48-000404.3  329.1729   -0.0679  0.8957  0.0692  20.536   \n",
       "3  SDSSJ215355.57-005622.1  328.4816   -0.9395  1.9048  0.1231  19.692   \n",
       "4  SDSSJ215415.55-004820.1  328.5648   -0.8056  1.7279  0.1189  19.710   \n",
       "\n",
       "      gAB     rAB     iAB     zAB  ...      Herr    Kerr  W1err  W2err  W3err  \\\n",
       "0  18.884  18.659  18.415  18.296  ...    0.0489  0.0464  0.041  0.041  0.091   \n",
       "1  20.386  20.187  19.830  19.877  ...    0.1011  0.1081  0.064  0.072  0.222   \n",
       "2  20.265  20.103  20.187  19.832  ...    0.1633  0.1003  0.057  0.073  0.000   \n",
       "3  19.749  19.613  19.162  19.042  ...    0.0913  0.0851  0.056  0.092  0.370   \n",
       "4  19.388  19.235  18.842  19.002  ...    0.0801  0.0650  0.045  0.055  0.137   \n",
       "\n",
       "   W4err  W1SNR  W2SNR  W3SNR  W4SNR  \n",
       "0  0.281   26.6   26.2   11.9    3.9  \n",
       "1  0.000   17.1   15.0    4.9    0.5  \n",
       "2  0.000   18.9   14.9    1.7    1.3  \n",
       "3  0.000   19.5   11.9    2.9    1.1  \n",
       "4  0.495   23.9   19.8    7.9    2.2  \n",
       "\n",
       "[5 rows x 35 columns]"
      ]
     },
     "execution_count": 3,
     "metadata": {},
     "output_type": "execute_result"
    }
   ],
   "source": [
    "df.head()"
   ]
  },
  {
   "cell_type": "markdown",
   "metadata": {},
   "source": [
    "Can I reproduce Paul's median colours?"
   ]
  },
  {
   "cell_type": "code",
   "execution_count": 179,
   "metadata": {
    "collapsed": false
   },
   "outputs": [
    {
     "data": {
      "text/plain": [
       "(-1.5, 1.5)"
      ]
     },
     "execution_count": 179,
     "metadata": {},
     "output_type": "execute_result"
    },
    {
     "data": {
      "image/png": "[encoded data removed]",
      "text/plain": [
       "<matplotlib.figure.Figure at 0x7f86a2dc4890>"
      ]
     },
     "metadata": {},
     "output_type": "display_data"
    }
   ],
   "source": [
    "# Add Paul offset, subtract Manda offset \n",
    "\n",
    "from qsosed.get_data import get_data\n",
    "df = get_data() \n",
    "\n",
    "colstr1 = ['uVEGA',\n",
    "           'gVEGA',\n",
    "           'rVEGA',\n",
    "           'iVEGA',\n",
    "           'zVEGA',\n",
    "           'YVEGA',\n",
    "           'JVEGA',\n",
    "           'HVEGA',\n",
    "           'KVEGA',\n",
    "           'W1VEGA']\n",
    "\n",
    "colstr2 = ['gVEGA',\n",
    "           'rVEGA',\n",
    "           'iVEGA',\n",
    "           'zVEGA',\n",
    "           'YVEGA',\n",
    "           'JVEGA',\n",
    "           'HVEGA',\n",
    "           'KVEGA',\n",
    "           'W1VEGA',\n",
    "           'W2VEGA']\n",
    "\n",
    "# datz = np.arange(1.05, 3, 0.1) \n",
    "# numzbin = len(datz)\n",
    "# datmin = np.min(datz) - 0.05\n",
    "# datmax = np.max(datz) + 0.05\n",
    "# binz = np.linspace(datmin, datmax, numzbin+1)\n",
    "\n",
    "# groups = df.groupby(np.digitize(df.z_HW, binz))\n",
    "\n",
    "# datarr2 = np.zeros((numzbin, 11))\n",
    "# datarr2[:, 0] = groups.median().uVEGA[1:-1]\n",
    "# datarr2[:, 1] = groups.median().gVEGA[1:-1]\n",
    "# datarr2[:, 2] = groups.median().rVEGA[1:-1]\n",
    "# datarr2[:, 3] = groups.median().iVEGA[1:-1]\n",
    "# datarr2[:, 4] = groups.median().zVEGA[1:-1]\n",
    "# datarr2[:, 5] = groups.median().YVEGA[1:-1]\n",
    "# datarr2[:, 6] = groups.median().JVEGA[1:-1]\n",
    "# datarr2[:, 7] = groups.median().HVEGA[1:-1]\n",
    "# datarr2[:, 8] = groups.median().KVEGA[1:-1]\n",
    "# datarr2[:, 9] = groups.median().W1VEGA[1:-1]\n",
    "# datarr2[:, 10] = groups.median().W2VEGA[1:-1]\n",
    "\n",
    "imag = datarr2[:, 3]\n",
    "imag = imag[:, np.newaxis]\n",
    "\n",
    "datarr2 = datarr2 - imag + 18.0\n",
    "\n",
    "cols = np.zeros((numzbin, 10)) \n",
    "cols[:, 0] = datarr2[:, 0] - datarr2[:, 1]\n",
    "cols[:, 1] = datarr2[:, 1] - datarr2[:, 2]\n",
    "cols[:, 2] = datarr2[:, 2] - datarr2[:, 3]\n",
    "cols[:, 3] = datarr2[:, 3] - datarr2[:, 4]\n",
    "cols[:, 4] = datarr2[:, 4] - datarr2[:, 5]\n",
    "cols[:, 5] = datarr2[:, 5] - datarr2[:, 6]\n",
    "cols[:, 6] = datarr2[:, 6] - datarr2[:, 7]\n",
    "cols[:, 7] = datarr2[:, 7] - datarr2[:, 8]\n",
    "cols[:, 8] = datarr2[:, 8] - datarr2[:, 9]\n",
    "cols[:, 9] = datarr2[:, 9] - datarr2[:, 10]\n",
    "\n",
    "labels = ['u - g', 'g - r', 'r - i', 'i - z', 'z - Y', 'Y - J', 'J - H', 'H - K', 'K - W1', 'W1 - W2']\n",
    "fig, axs = plt.subplots(5, 2, figsize=(6,15), sharex=True) \n",
    "\n",
    "for i, ax in enumerate(axs.flatten()):\n",
    "\n",
    "    #data definition\n",
    "    ydat = datarr[:, col1[i]] - datarr[:, col2[i]]\n",
    "\n",
    "    ax.scatter(datz_paul, \n",
    "               ydat, \n",
    "               color='blue', \n",
    "               s=5)\n",
    "    \n",
    "#     ax.scatter(df.z_HW, df[colstr1[i]] - df[colstr2[i]], s=1, alpha=0.1)\n",
    "    \n",
    "    ax.plot(datz, \n",
    "            cols[:, i], color='red', zorder=5)\n",
    "\n",
    "    ax.set_title(labels[i])\n",
    "\n",
    "\n",
    "axs[0, 0].set_ylim(-1.5, 1.5)"
   ]
  },
  {
   "cell_type": "code",
   "execution_count": 180,
   "metadata": {
    "collapsed": false
   },
   "outputs": [
    {
     "data": {
      "text/plain": [
       "19837"
      ]
     },
     "execution_count": 180,
     "metadata": {},
     "output_type": "execute_result"
    }
   ],
   "source": [
    "len(df)"
   ]
  },
  {
   "cell_type": "code",
   "execution_count": 115,
   "metadata": {
    "collapsed": false
   },
   "outputs": [
    {
     "name": "stdout",
     "output_type": "stream",
     "text": [
      "[[ 17.76   18.643  18.17   18.     17.865  17.666  17.485  16.992  16.209\n",
      "   14.714  13.47 ]\n",
      " [ 17.761  18.702  18.214  18.     17.934  17.712  17.684  17.09   16.315\n",
      "   14.848  13.555]\n",
      " [ 17.761  18.743  18.228  18.     17.931  17.794  17.694  16.993  16.441\n",
      "   14.964  13.642]\n",
      " [ 17.777  18.75   18.245  18.     17.904  17.814  17.617  16.839  16.485\n",
      "   15.064  13.704]\n",
      " [    nan  18.761  18.341  18.     17.899  17.87   17.524  16.859  16.509\n",
      "   15.177  13.834]\n",
      " [    nan  18.782  18.414  18.     17.898  17.929  17.555  16.901  16.567\n",
      "   15.269  13.928]\n",
      " [    nan  18.751  18.439  18.     17.867  17.872  17.525  16.935  16.576\n",
      "   15.332  14.006]\n",
      " [    nan  18.742  18.458  18.     17.856  17.808  17.566  17.135  16.584\n",
      "   15.374  14.096]\n",
      " [    nan  18.764  18.478  18.     17.835  17.754  17.568  17.198  16.584\n",
      "   15.407  14.191]\n",
      " [    nan  18.713  18.406  18.     17.755  17.703  17.54   17.144  16.576\n",
      "   15.439  14.245]\n",
      " [    nan  18.691  18.349  18.     17.68   17.617  17.492  17.028  16.462\n",
      "   15.425  14.227]\n",
      " [    nan     nan  18.314  18.     17.654  17.587  17.441  16.938  16.187\n",
      "   15.437  14.297]\n",
      " [    nan     nan  18.281  18.     17.658  17.576  17.408  16.893  16.076\n",
      "   15.416  14.329]\n",
      " [    nan     nan  18.258  18.     17.661  17.53   17.333  16.82   16.057\n",
      "   15.444  14.385]\n",
      " [    nan     nan  18.223  18.     17.656  17.535  17.297  16.81   16.058\n",
      "   15.445  14.425]\n",
      " [    nan     nan  18.229  18.     17.655  17.442  17.293  16.81   16.061\n",
      "   15.453  14.49 ]\n",
      " [    nan     nan  18.271  18.     17.705  17.444  17.247  16.795  16.236\n",
      "   15.477  14.533]\n",
      " [    nan     nan  18.289  18.     17.734  17.434  17.212  16.778  16.3\n",
      "   15.337  14.458]\n",
      " [    nan     nan  18.317  18.     17.793  17.45   17.213  16.778  16.362\n",
      "   15.411  14.478]\n",
      " [    nan     nan  18.316  18.     17.801  17.528  17.214  16.789  16.329\n",
      "   15.408  14.525]\n",
      " [    nan     nan  18.287  18.     17.81   17.523  17.219  16.784  16.321\n",
      "   15.382  14.524]\n",
      " [    nan     nan     nan  18.     17.83   17.563  17.23   16.809  16.281\n",
      "   15.396  14.571]\n",
      " [    nan     nan     nan  18.     17.822  17.564  17.164  16.769  16.198\n",
      "   15.36   14.616]\n",
      " [    nan     nan     nan  18.     17.775  17.61   17.158  16.753  16.162\n",
      "   15.245  14.601]\n",
      " [    nan     nan     nan  18.     17.764  17.713  17.21   16.807  16.233\n",
      "   15.287  14.687]]\n"
     ]
    }
   ],
   "source": [
    "fname = '/home/lc585/qsosed/sdss_ukidss_wise_medmag_ext.dat'\n",
    "datarr = np.genfromtxt(fname, usecols=(1,3,5,7,9,11,13,15,17,19,21)) \n",
    "datarr[datarr < 0.0] = np.nan \n",
    "\n",
    "with open('/home/lc585/qsosed/sdss_ukidss_wise_medmag_ext.dat') as f:\n",
    "    datz = np.loadtxt(f, usecols=(0,))\n",
    "        \n",
    "lameff = np.array([3546.0,\n",
    "                   4670.0,\n",
    "                   6156.0,\n",
    "                   7471.0,\n",
    "                   8918.0,\n",
    "                   10305.0,\n",
    "                   12483.0,\n",
    "                   16313.0,\n",
    "                   22010.0,\n",
    "                   33680.0,\n",
    "                   46180.0])\n",
    "\n",
    "lameff = lameff[np.newaxis, :] / (1.0 + datz[:, np.newaxis]) \n",
    "\n",
    "mask = lameff < 1500.0\n",
    "\n",
    "datarr[mask] = np.nan\n",
    "\n",
    "print datarr"
   ]
  },
  {
   "cell_type": "code",
   "execution_count": 126,
   "metadata": {
    "collapsed": false
   },
   "outputs": [
    {
     "data": {
      "text/plain": [
       "(0, 5000)"
      ]
     },
     "execution_count": 126,
     "metadata": {},
     "output_type": "execute_result"
    },
    {
     "data": {
      "image/png": "[encoded data removed]",
      "text/plain": [
       "<matplotlib.figure.Figure at 0x7f8695998dd0>"
      ]
     },
     "metadata": {},
     "output_type": "display_data"
    }
   ],
   "source": [
    "import os\n",
    "mydir = '/home/lc585/qsosed'\n",
    "flxcorr = np.genfromtxt(os.path.join(mydir, 'flxcorr.dat'))\n",
    "f = interp1d(flxcorr[:, 0], flxcorr[:, 1], bounds_error=False, fill_value=1.0)\n",
    "\n",
    "plt.plot(flxcorr[:, 0], flxcorr[:, 1])\n",
    "\n",
    "plt.axvline(7471/3)\n",
    "plt.axvline(8918/3)\n",
    "\n",
    "plt.axvline(7471/3.5)\n",
    "plt.axvline(8918/3.5)\n",
    "\n",
    "plt.xlim(0, 5000)"
   ]
  },
  {
   "cell_type": "code",
   "execution_count": 120,
   "metadata": {
    "collapsed": false
   },
   "outputs": [
    {
     "data": {
      "text/plain": [
       "-0.052973247674845229"
      ]
     },
     "execution_count": 120,
     "metadata": {},
     "output_type": "execute_result"
    }
   ],
   "source": [
    "-2.5*np.log10(1.05)"
   ]
  },
  {
   "cell_type": "markdown",
   "metadata": {},
   "source": [
    "* SDSS: asinh magnitudes\n",
    "* UKIDSS: Vega magnitudes\n",
    "* WISE: Vega magnitudes \n",
    "\n",
    "Manda has cross-matched SDSS, UKIDSS and WISE. 36,607 objects. \n",
    "\n",
    "> /data/mbanerji/Projects/Quasar_SED_Paul/SDSSDR7_ULASDR10_AllWISE_ABmags_HWredshift\n",
    "\n",
    "All magnitudes given in AB system. Vega to AB offsets used by Manda ($m_{AB} = m_{vega} + \\Delta m$) are from Hewett et al. (2006) and the WISE supplement:\n",
    "\n",
    "* u  0.927\n",
    "* g -0.103\n",
    "* r  0.146\n",
    "* i  0.366\n",
    "* z  0.533\n",
    "* Y  0.634\n",
    "* J  0.938\n",
    "* H  1.379\n",
    "* K  1.900\n",
    "* W1 2.699\n",
    "* W2 3.339\n",
    "\n",
    "Paul has calculated new Vega to AB offsets:\n",
    "\n",
    "* u  0.913\n",
    "* g -0.081\n",
    "* r  0.169\n",
    "* i  0.383\n",
    "* z  0.542\n",
    "* Y  0.641\n",
    "* J  0.941\n",
    "* H  1.378\n",
    "* K  1.897\n",
    "* W1 2.691\n",
    "* W2 3.331\n",
    "\n",
    "So I can modify the AB magnitudes given in Manda's table by adding $\\Delta m_{paul} - \\Delta m_{manda}$. \n",
    "\n",
    "(Given in http://classic.sdss.org/dr7/algorithms/fluxcal.html).\n",
    "\n",
    "We find for the A0V star Vega the following:\n",
    " \n",
    "* u-g = +1.02 => uSDSS =  1.02 - 0.08 = 0.94 \n",
    "*                gSDSS =                -0.08\n",
    "* g-r = -0.25 => rSDSS = -0.08 + 0.25 = 0.17 \n",
    "* r-i = -0.23 => iSDSS =  0.17 + 0.23 = 0.40 \n",
    "* i-z = -0.17 => zSDSS =  0.40 + 0.17 = 0.57 \n",
    "\n",
    "The SDSS photometry is intended to be on the AB system (Oke & Gunn 1983), by which a magnitude 0 object should have the same counts as a source of Fnu = 3631 Jy. However, this is known not to be exactly true, such that the photometric zeropoints are slightly off the AB standard. To convert from SDSS ugriz to AB ugriz: \n",
    "\n",
    "* uAB = uSDSS - 0.04 mag\n",
    "* gAB = gSDSS \n",
    "* rAB = rSDSS\n",
    "* iAB = iSDSS\n",
    "* zAB = zSDSS + 0.02 mag \n",
    "\n",
    "so in AB system Vega has magnitudes:   \n",
    "\n",
    "* uAB = 0.94 - 0.04 = 0.90 \n",
    "* gAB = -0.08 \n",
    "* rAB = 0.17\n",
    "* iAB = 0.40\n",
    "* zAB = 0.57 + 0.02 = 0.59 \n",
    "\n",
    "Vega has a magnitude V=+0.03 in the Vega system. So to go from AB to Vega:\n",
    "\n",
    "* uVega = uAB - 0.90 + 0.03 = uAB - 0.87    \n",
    "* gVega = gAB + 0.08 + 0.03 = gAB + 0.11\n",
    "* rVega = rAB - 0.17 + 0.03 = rAB - 0.14\n",
    "* iVega = iAB - 0.40 + 0.03 = iAB - 0.37\n",
    "* zVega = zAB - 0.59 + 0.03 = zAB - 0.56   \n",
    "\n",
    "**These are different to Paul's conversions. Why?** \n",
    "\n",
    "**What's the difference between Paul's and Manda's Vega->AB for UKIDSS/WISE conversions?** \n",
    "\n",
    "\n",
    "## Extinction Correction \n",
    "\n",
    "The relative extinction between B and V bands E(B-V) at the position of each object are computed following Schlegel, Finkbeiner, & Davis (1998). Conversions from the selective extinction E(B-V) to the total extinction A in each band-pass were calculated by Paul, assuming a z=1.5 quasar spectral energy distribution and (I think) equation B2 in Schlegel+. These are:\n",
    "\n",
    "* u  4.875 4.771\n",
    "* g  3.793 3.821\n",
    "* r  2.721 2.709\n",
    "* i  2.099 2.123\n",
    "* z  1.537 1.688\n",
    "* Y  1.194 1.282\n",
    "* J  0.880 0.878\n",
    "* H  0.569 0.511\n",
    "* K  0.352 0.281\n",
    "* W1 0.182 0.120\n",
    "* W2 0.130 0.064\n",
    "\n",
    "**Which of these values is used?** \n",
    "\n",
    "SDSS quasar catalogue gives the extinction in the u band, which is calculated from the Schlegel maps assuming a z=0 elliptical galaxy SED. Using Table 22 in Stoughton et al. can calculate E(B-V):\n",
    "\n",
    "E(B-V) = A(u) / 5.155 \n",
    "\n",
    "and then using this E(B-V): \n",
    "\n",
    "* A(u) = 4.875 * E(B-V)\n",
    "* A(g) = 3.793 * E(B-V)\n",
    "* ...\n",
    "* A(W2) = 0.130 * E(B-V)\n",
    "\n",
    "**Is this how the extinction was calculated?** \n",
    "\n",
    "## Magnitude limit \n",
    "\n",
    "i<=18.717\n",
    "\n",
    "This is 19.1 in Vega.  "
   ]
  },
  {
   "cell_type": "markdown",
   "metadata": {},
   "source": [
    "This extinction curve is usually parameterized in terms of the V-band extinction A(V) and a measure of the relative extinction between B and V band:\n",
    "\n",
    "$R = A(V) / A(V) - A(B) = A(V) / E(B-V)$\n",
    "\n",
    "We have galactic extinction curve, which gives the colour excess $E(B-\\lambda)$ relative to the colour excess $E(B-V)$ as a function of wavelength $\\lambda$.\n",
    "\n",
    "$E(B-V) = \\frac{A(U)}{E(U-V)/E(B-V) + R}$\n",
    "\n",
    "then \n",
    "\n",
    "$A_\\lambda = E(B-V) (\\frac{E(\\lambda - V)}{E(B-V)} + R)$\n",
    "\n",
    "(ebv * ( ext(3546.0) + 3.1 ))\n",
    "\n",
    "To calibrate our maps, we assume a standard reddening law, and use the colors of elliptical galaxies to measure the reddening per flux density of 100 micron emission.\n",
    "\n",
    "A(U) is given assuming a z=0 elliptical galaxy. What would A(U) be instead if a z=1.5 quasar is used? Paul has calculated this. Is this given as a correction to the A(U) in the SDSS table? Ask Paul. \n",
    "\n",
    "Conversions from E(B-V) to total extinction $A_\\lambda$, assuming a z = 0 elliptical galaxy spectral energy distribution, are\n",
    "\n",
    "Band A_filter / E(B-V)\n",
    "\n",
    "u 5.155\n",
    "g 3.793\n",
    "r 2.751\n",
    "i 2.086\n",
    "z 1.479\n",
    "\n",
    "\n",
    "\n",
    "\n",
    "Using this can apply extinction correction to ugrizYJHKW1W2 magnitudes. \n",
    "\n",
    "\n",
    "(See http://classic.sdss.org/dr7/algorithms/fluxcal.html) \n",
    "\n",
    "\n",
    "\n",
    "\n",
    "\n",
    "Unfortunately, R also depends upon the measurement\n",
    "process. This is because a detector sees a spectral energy dis-\n",
    "tribution (SED) weighted by a system response function, the\n",
    "latter determined primarily by the transmission curve of the\n",
    "filter. This affects not only A, but also E(B-V). Typically, a\n",
    "filter used to study a galaxy (such as B or V ) is very broad, so\n",
    "the flux-weighted wavelength of detected photons, referred to\n",
    "as the effective wavelength, can vary with the shape of the SED;\n",
    "it depends upon how the light of the source is distributed across\n",
    "the bandpass. Therefore, at a given reddening, the extinction\n",
    "affecting a measured magnitude, even after transformations\n",
    "take out color terms, depends upon the SED. Even if dust were\n",
    "the same everywhere, RÃ would vary from source to source."
   ]
  },
  {
   "cell_type": "code",
   "execution_count": 6,
   "metadata": {
    "collapsed": false
   },
   "outputs": [
    {
     "name": "stdout",
     "output_type": "stream",
     "text": [
      "0.030810956621\n",
      "0.0292919495635\n"
     ]
    }
   ],
   "source": [
    "# Main DR7Q\n",
    "dr7dat = Table.read('/data/sdss/DR7/dr7qso.fit')\n",
    "\n",
    "with open('/home/lc585/Dropbox/IoA/QSOSED/Model/extcur/gal3ext.sph') as f:\n",
    "    exttmp = Table.read(f,format='ascii')\n",
    "    \n",
    "ext = interp1d(exttmp['col1'], exttmp['col2'])\n",
    "\n",
    "print dr7dat[200]['AU'] / (ext(3546.0) + 3.1)\n",
    "print dr7dat[200]['AU'] / 5.155\n",
    "print dr7dat[]"
   ]
  },
  {
   "cell_type": "code",
   "execution_count": null,
   "metadata": {
    "collapsed": true
   },
   "outputs": [],
   "source": []
  },
  {
   "cell_type": "code",
   "execution_count": null,
   "metadata": {
    "collapsed": true
   },
   "outputs": [],
   "source": []
  },
  {
   "cell_type": "code",
   "execution_count": null,
   "metadata": {
    "collapsed": true
   },
   "outputs": [],
   "source": []
  },
  {
   "cell_type": "code",
   "execution_count": null,
   "metadata": {
    "collapsed": true
   },
   "outputs": [],
   "source": []
  },
  {
   "cell_type": "code",
   "execution_count": null,
   "metadata": {
    "collapsed": true
   },
   "outputs": [],
   "source": []
  },
  {
   "cell_type": "code",
   "execution_count": null,
   "metadata": {
    "collapsed": true
   },
   "outputs": [],
   "source": []
  },
  {
   "cell_type": "code",
   "execution_count": null,
   "metadata": {
    "collapsed": true
   },
   "outputs": [],
   "source": []
  },
  {
   "cell_type": "code",
   "execution_count": null,
   "metadata": {
    "collapsed": true
   },
   "outputs": [],
   "source": []
  },
  {
   "cell_type": "code",
   "execution_count": null,
   "metadata": {
    "collapsed": true
   },
   "outputs": [],
   "source": []
  },
  {
   "cell_type": "code",
   "execution_count": null,
   "metadata": {
    "collapsed": true
   },
   "outputs": [],
   "source": []
  },
  {
   "cell_type": "code",
   "execution_count": null,
   "metadata": {
    "collapsed": true
   },
   "outputs": [],
   "source": []
  },
  {
   "cell_type": "code",
   "execution_count": null,
   "metadata": {
    "collapsed": true
   },
   "outputs": [],
   "source": []
  },
  {
   "cell_type": "code",
   "execution_count": null,
   "metadata": {
    "collapsed": true
   },
   "outputs": [],
   "source": []
  },
  {
   "cell_type": "code",
   "execution_count": null,
   "metadata": {
    "collapsed": true
   },
   "outputs": [],
   "source": []
  },
  {
   "cell_type": "code",
   "execution_count": null,
   "metadata": {
    "collapsed": true
   },
   "outputs": [],
   "source": []
  }
 ],
 "metadata": {
  "kernelspec": {
   "display_name": "Python 2",
   "language": "python",
   "name": "python2"
  },
  "language_info": {
   "codemirror_mode": {
    "name": "ipython",
    "version": 2
   },
   "file_extension": ".py",
   "mimetype": "text/x-python",
   "name": "python",
   "nbconvert_exporter": "python",
   "pygments_lexer": "ipython2",
   "version": "2.7.8"
  }
 },
 "nbformat": 4,
 "nbformat_minor": 0
}
