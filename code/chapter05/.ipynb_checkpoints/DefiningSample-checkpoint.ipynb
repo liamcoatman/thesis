{
 "cells": [
  {
   "cell_type": "code",
   "execution_count": 51,
   "metadata": {
    "collapsed": true
   },
   "outputs": [],
   "source": [
    "import matplotlib.pyplot as plt\n",
    "from astropy.table import Table, join  \n",
    "import numpy as np\n",
    "import collections\n",
    "import numpy.ma as ma \n",
    "import brewer2mpl\n",
    "from scipy.interpolate import interp1d "
   ]
  },
  {
   "cell_type": "code",
   "execution_count": null,
   "metadata": {
    "collapsed": false
   },
   "outputs": [],
   "source": [
    "# Main DR7Q\n",
    "dr7dat = Table.read('/data/sdss/DR7/dr7qso.fit')\n",
    "\n",
    "# Shen catalog\n",
    "shendat = Table.read('/data/lc585/SDSS/dr7_bh_Nov19_2013.fits')\n",
    "\n",
    "dr7dat['UMAG_DERED_SHEN'] = shendat['UGRIZ_DERED'][:,0]\n",
    "dr7dat['GMAG_DERED_SHEN'] = shendat['UGRIZ_DERED'][:,1]\n",
    "dr7dat['RMAG_DERED_SHEN'] = shendat['UGRIZ_DERED'][:,2]\n",
    "dr7dat['IMAG_DERED_SHEN'] = shendat['UGRIZ_DERED'][:,3]\n",
    "dr7dat['ZMAG_DERED_SHEN'] = shendat['UGRIZ_DERED'][:,4]\n",
    "dr7dat['LOGLBOL'] = shendat['LOGLBOL']\n",
    "\n",
    "# Calculate extinction\n",
    "with open('/home/lc585/Dropbox/IoA/QSOSED/Model/extcur/gal3ext.sph') as f:\n",
    "    exttmp = Table.read(f,format='ascii')\n",
    "    \n",
    "ext = interp1d(exttmp['col1'],exttmp['col2'])\n",
    "\n",
    "dr7dat['UMAG_DERED'] = np.zeros(len(dr7dat))\n",
    "dr7dat['GMAG_DERED'] = np.zeros(len(dr7dat)) \n",
    "dr7dat['RMAG_DERED'] = np.zeros(len(dr7dat)) \n",
    "dr7dat['IMAG_DERED'] = np.zeros(len(dr7dat)) \n",
    "dr7dat['ZMAG_DERED'] = np.zeros(len(dr7dat)) \n",
    "\n",
    "for i,row in enumerate(dr7dat):\n",
    "    \n",
    "    ebv = row['AU'] / (ext(3546.0) + 3.1)\n",
    "    \n",
    "    row['UMAG_DERED'] = row['UMAG'] - ebv * ( ext(3546.0) + 3.1 ) \n",
    "    row['GMAG_DERED'] = row['GMAG'] - ebv * ( ext(4670.0) + 3.1 )  \n",
    "    row['RMAG_DERED'] = row['RMAG'] - ebv * ( ext(6156.0) + 3.1 )  \n",
    "    row['IMAG_DERED'] = row['IMAG'] - ebv * ( ext(7471.0) + 3.1 ) \n",
    "    row['ZMAG_DERED'] = row['ZMAG'] - ebv * ( ext(8918.0) + 3.1 )  \n",
    "\n",
    "# ULAS dat\n",
    "ulasdat = np.genfromtxt('/data/mbanerji/Projects/QSO/DR7QSO/DR7QSO_ULASDR9_ABmags.cat')\n",
    "ulasbestid = np.genfromtxt('/data/mbanerji/Projects/QSO/DR7QSO/DR7QSO_ULASDR9_ABmags.cat',usecols=1,dtype='str')\n",
    "\n",
    "ulastab = Table()\n",
    "ulastab['BESTID'] = ulasbestid \n",
    "ulastab['UKIDSS_YMAG'] = ulasdat[:,9] \n",
    "ulastab['UKIDSS_JMAG'] = ulasdat[:,10] \n",
    "ulastab['UKIDSS_HMAG'] = ulasdat[:,11] \n",
    "ulastab['UKIDSS_KMAG'] = ulasdat[:,12] \n",
    "ulastab['UKIDSS_YMAG_ERR'] = ulasdat[:,18] \n",
    "ulastab['UKIDSS_JMAG_ERR'] = ulasdat[:,19] \n",
    "ulastab['UKIDSS_HMAG_ERR'] = ulasdat[:,20] \n",
    "ulastab['UKIDSS_KMAG_ERR'] = ulasdat[:,21] \n",
    "ulastab['UKIDSS_YSNR'] = 1.0 / (ulasdat[:,18] * 0.4 * np.log(10) )\n",
    "ulastab['UKIDSS_JSNR'] = 1.0 / (ulasdat[:,19] * 0.4 * np.log(10) )\n",
    "ulastab['UKIDSS_HSNR'] = 1.0 / (ulasdat[:,20] * 0.4 * np.log(10) ) \n",
    "ulastab['UKIDSS_KSNR'] = 1.0 / (ulasdat[:,21] * 0.4 * np.log(10) )\n",
    "\n",
    "newtable1 = join(dr7dat, ulastab, join_type='left', keys='BESTID')\n",
    "\n",
    "newtab = Table()\n",
    "newtab['UKIDSS_YMAG_DERED'] = np.zeros(len(newtable1)) \n",
    "newtab['UKIDSS_JMAG_DERED'] = np.zeros(len(newtable1)) \n",
    "newtab['UKIDSS_HMAG_DERED'] = np.zeros(len(newtable1)) \n",
    "newtab['UKIDSS_KMAG_DERED'] = np.zeros(len(newtable1)) \n",
    "\n",
    "for i in range(len(newtable1)):\n",
    "    \n",
    "    ebv = newtable1['AU'][i] / (ext(3546.0) + 3.1)\n",
    "    \n",
    "    newtab['UKIDSS_YMAG_DERED'][i] = newtable1['UKIDSS_YMAG'][i] - ebv * ( ext(10305.0) + 3.1 )  \n",
    "    newtab['UKIDSS_JMAG_DERED'][i] = newtable1['UKIDSS_JMAG'][i] - ebv * ( ext(12483.0) + 3.1 )  \n",
    "    newtab['UKIDSS_HMAG_DERED'][i] = newtable1['UKIDSS_HMAG'][i] - ebv * ( ext(16313.0) + 3.1 )  \n",
    "    newtab['UKIDSS_KMAG_DERED'][i] = newtable1['UKIDSS_KMAG'][i] - ebv * ( ext(22010.0) + 3.1 )  \n",
    "\n",
    "newtable1['UKIDSS_YMAG_DERED'] = newtab['UKIDSS_YMAG_DERED']\n",
    "newtable1['UKIDSS_JMAG_DERED'] = newtab['UKIDSS_JMAG_DERED']\n",
    "newtable1['UKIDSS_HMAG_DERED'] = newtab['UKIDSS_HMAG_DERED']\n",
    "newtable1['UKIDSS_KMAG_DERED'] = newtab['UKIDSS_KMAG_DERED']"
   ]
  },
  {
   "cell_type": "code",
   "execution_count": 6,
   "metadata": {
    "collapsed": false
   },
   "outputs": [
    {
     "data": {
      "text/plain": [
       "37893"
      ]
     },
     "execution_count": 6,
     "metadata": {},
     "output_type": "execute_result"
    }
   ],
   "source": [
    "# How many cross-matched \n",
    "\n",
    "\n",
    "t = newtable1[~np.isnan(newtable1['UKIDSS_YMAG_DERED'])]\n",
    "len(t)"
   ]
  },
  {
   "cell_type": "code",
   "execution_count": 22,
   "metadata": {
    "collapsed": false
   },
   "outputs": [
    {
     "data": {
      "text/plain": [
       "63855"
      ]
     },
     "execution_count": 22,
     "metadata": {},
     "output_type": "execute_result"
    }
   ],
   "source": []
  },
  {
   "cell_type": "code",
   "execution_count": 31,
   "metadata": {
    "collapsed": false
   },
   "outputs": [],
   "source": [
    "shendat = Table.read('/data/lc585/SDSS/dr7_bh_Nov19_2013.fits')\n",
    "\n",
    "t1 = Table()\n",
    "t1['SDSSJ'] = shendat['SDSS_NAME']\n",
    "t1['IMAG_SHEN'] = shendat['UGRIZ'][:, 3]\n",
    "t1['LOGLBOL_SHEN'] = shendat['LOGLBOL']\n",
    "\n",
    "dr7dat = Table.read('/data/sdss/DR7/dr7qso.fit')\n",
    "\n",
    "dr7dat = join(dr7dat, t1, join_type='left', keys='SDSSJ')\n",
    "\n",
    "ulasdat = np.genfromtxt('/data/mbanerji/Projects/QSO/DR7QSO/DR7QSO_ULASDR9_ABmags.cat')\n",
    "ulasbestid = np.genfromtxt('/data/mbanerji/Projects/QSO/DR7QSO/DR7QSO_ULASDR9_ABmags.cat',usecols=1,dtype='str')\n",
    "\n",
    "ulastab = Table()\n",
    "ulastab['BESTID'] = ulasbestid \n",
    "ulastab['UKIDSS_YMAG'] = ulasdat[:,9] \n",
    "ulastab['UKIDSS_JMAG'] = ulasdat[:,10] \n",
    "ulastab['UKIDSS_HMAG'] = ulasdat[:,11] \n",
    "ulastab['UKIDSS_KMAG'] = ulasdat[:,12] \n",
    "ulastab['UKIDSS_YMAG_ERR'] = ulasdat[:,18] \n",
    "ulastab['UKIDSS_JMAG_ERR'] = ulasdat[:,19] \n",
    "ulastab['UKIDSS_HMAG_ERR'] = ulasdat[:,20] \n",
    "ulastab['UKIDSS_KMAG_ERR'] = ulasdat[:,21] \n",
    "ulastab['UKIDSS_YSNR'] = 1.0 / (ulasdat[:,18] * 0.4 * np.log(10) )\n",
    "ulastab['UKIDSS_JSNR'] = 1.0 / (ulasdat[:,19] * 0.4 * np.log(10) )\n",
    "ulastab['UKIDSS_HSNR'] = 1.0 / (ulasdat[:,20] * 0.4 * np.log(10) ) \n",
    "ulastab['UKIDSS_KSNR'] = 1.0 / (ulasdat[:,21] * 0.4 * np.log(10) )\n",
    "\n",
    "dr7dat = join(dr7dat, ulastab, join_type='left', keys='BESTID')\n",
    "\n"
   ]
  },
  {
   "cell_type": "code",
   "execution_count": 50,
   "metadata": {
    "collapsed": false
   },
   "outputs": [
    {
     "name": "stdout",
     "output_type": "stream",
     "text": [
      "(array([13658, 21566, 24336, 24357, 36281]),)\n"
     ]
    }
   ],
   "source": [
    "t = dr7dat[~dr7dat['UKIDSS_YMAG'].mask]\n",
    "bad = (t['UKIDSS_YMAG'] < 0.0) & (t['UKIDSS_JMAG'] < 0.0) & (t['UKIDSS_HMAG'] < 0.0) & (t['UKIDSS_KMAG'] < 0.0)\n",
    "\n",
    "\n",
    "\n"
   ]
  },
  {
   "cell_type": "code",
   "execution_count": 55,
   "metadata": {
    "collapsed": false
   },
   "outputs": [],
   "source": [
    "# Main DR7Q\n",
    "dr7dat = Table.read('/data/sdss/DR7/dr7qso.fit')\n",
    "\n",
    "# Shen catalog\n",
    "shendat = Table.read('/data/lc585/SDSS/dr7_bh_Nov19_2013.fits')\n",
    "\n",
    "for i in range(len(dr7dat)):\n",
    "    if dr7dat['SDSSJ'][i] != shendat['SDSS_NAME'][i]:\n",
    "        print i, dr7dat['SDSSJ'][i]"
   ]
  }
 ],
 "metadata": {
  "kernelspec": {
   "display_name": "Python 2",
   "language": "python",
   "name": "python2"
  },
  "language_info": {
   "codemirror_mode": {
    "name": "ipython",
    "version": 2
   },
   "file_extension": ".py",
   "mimetype": "text/x-python",
   "name": "python",
   "nbconvert_exporter": "python",
   "pygments_lexer": "ipython2",
   "version": "2.7.8"
  }
 },
 "nbformat": 4,
 "nbformat_minor": 0
}
