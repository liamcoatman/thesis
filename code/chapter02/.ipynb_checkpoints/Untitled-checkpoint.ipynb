{
 "cells": [
  {
   "cell_type": "code",
   "execution_count": 89,
   "metadata": {
    "collapsed": true
   },
   "outputs": [],
   "source": [
    "import pandas as pd \n",
    "import numpy as np \n",
    "from astropy import units as u\n",
    "from astropy.coordinates import SkyCoord\n",
    "from get_nir_spec import get_nir_spec\n",
    "import astropy.units as u \n",
    "from astropy.constants import c\n",
    "from SpectraTools.fit_line import doppler2wave, wave2doppler\n",
    "\n",
    "pd.options.display.max_rows = 999"
   ]
  },
  {
   "cell_type": "code",
   "execution_count": 13,
   "metadata": {
    "collapsed": true
   },
   "outputs": [],
   "source": [
    "# instrument / telescope \n",
    "def get_instr(row):\n",
    "\n",
    "    if row.INSTR == 'FIRE': return 'FIRE/Magellan'\n",
    "    if row.INSTR == 'GNIRS': return 'GNIRS/Gemini'\n",
    "    if row.INSTR == 'ISAAC': return 'ISAAC/VLT'\n",
    "    if row.INSTR == 'LIRIS': return 'LIRIS/WHT'\n",
    "    if row.INSTR == 'NIRI': return 'NIRI/Gemini'\n",
    "    if row.INSTR == 'NIRSPEC': return 'NIRSPEC/Keck'\n",
    "    if row.INSTR == 'SINF': return 'SINFONI/VLT'\n",
    "    if row.INSTR == 'SINF_KK': return 'SINFONI/VLT'\n",
    "    if row.INSTR == 'SOFI_JH': return 'SofI/NTT'\n",
    "    if row.INSTR == 'SOFI_LC': return 'SofI/NTT'\n",
    "    if row.INSTR == 'TRIPLE': return 'TRIPLESPEC/Hale'\n",
    "    if row.INSTR == 'TRIPLE_S15': return 'TRIPLESPEC/ARC'\n",
    "    if row.INSTR == 'XSHOOT': return 'XSHOOTER/VLT' \n",
    "\n"
   ]
  },
  {
   "cell_type": "code",
   "execution_count": 53,
   "metadata": {
    "collapsed": false
   },
   "outputs": [],
   "source": [
    "# Calculate velocity resolution \n",
    "\n",
    "df = pd.read_csv('/home/lc585/Dropbox/IoA/nirspec/tables/masterlist_liam.csv', index_col=0) \n",
    "\n",
    "for idx, row in df.iterrows():\n",
    "    \n",
    "    if row.NIR_PATH != 'None':\n",
    "        \n",
    "        wav, dw, flux, err = get_nir_spec(row.NIR_PATH, row.INSTR)\n",
    "        dw = np.diff(np.log10(wav)).mean()\n",
    "\n",
    "        dv = c.to('km/s') * (1. - 10. ** -dw)\n",
    "        df.set_value(idx, 'dv_PIXEL', np.around(dv, decimals=0).value)  \n",
    "\n",
    "        #-------------------------------\n",
    "        wav_range = '{0:.2f}'.format((wav.min()*u.AA).to(u.um).value) + '-' + \\\n",
    "                    '{0:.2f}'.format((wav.max()*u.AA).to(u.um).value) \n",
    "        df.set_value(idx, 'WAV_RANGE', wav_range)  \n",
    "        \n",
    "# These two have SDSS spectra attached so wav_range is wrong \n",
    "df.loc[df.INSTR == 'FIRE', 'WAV_RANGE'] = '0.80-2.50'\n",
    "df.loc[df.INSTR == 'TRIPLE_S15', 'WAV_RANGE'] = '0.95-2.46'     \n"
   ]
  },
  {
   "cell_type": "code",
   "execution_count": 15,
   "metadata": {
    "collapsed": false
   },
   "outputs": [],
   "source": [
    "df = pd.read_csv('/home/lc585/Dropbox/IoA/nirspec/tables/masterlist_liam.csv', index_col=0) \n",
    "df = df[df.SPEC_NIR != 'None']\n",
    "# df.reset_index(inplace=True)\n",
    "# df.sort_values('RA', inplace=True)\n",
    "\n",
    "cols = ['ID',\n",
    "        'DATE',\n",
    "        'RA',\n",
    "        'DEC',\n",
    "        'INSTR_BAND',\n",
    "        'INSTR',\n",
    "        'z_ICA']\n",
    "df = df[cols]\n",
    "\n",
    "c = SkyCoord(ra=df.RA, dec=df.DEC)\n",
    "df['RA'] = c.ra.to_string(unit=u.hourangle, precision=2, alwayssign=True, pad=True)\n",
    "df['DEC'] = c.dec.to_string(precision=2, alwayssign=True, pad=True)\n",
    "\n",
    "df.DATE.replace(to_replace='None', value='YYYY-MM-DD', inplace=True)\n",
    "\n",
    "df['INSTR'] = df.apply(get_instr, axis=1)\n",
    "\n",
    "df['WAV_RANGE'] = wav_ranges "
   ]
  },
  {
   "cell_type": "code",
   "execution_count": 119,
   "metadata": {
    "collapsed": false
   },
   "outputs": [
    {
     "data": {
      "text/plain": [
       "array([ 7.10106361,  4.42415232,  5.93065658,  3.04333874])"
      ]
     },
     "execution_count": 119,
     "metadata": {},
     "output_type": "execute_result"
    }
   ],
   "source": [
    "df = pd.read_csv('/home/lc585/Dropbox/IoA/nirspec/tables/masterlist_liam.csv', index_col=0) \n",
    "df = df[df.SPEC_NIR != 'None']\n",
    "row = df.ix[0]\n",
    "\n",
    "    wav, dw, flux, err = get_nir_spec(row.NIR_PATH, row.INSTR)\n",
    "    wav = wav / (1.0 + row.z_IR)\n",
    "\n",
    "    instr = row.INSTR\n",
    "    if instr == 'FIRE': from fit_properties_fire import get_line_fit_props\n",
    "    if instr == 'GNIRS': from fit_properties_gnirs import get_line_fit_props\n",
    "    if instr == 'ISAAC': from fit_properties_isaac import get_line_fit_props\n",
    "    if instr == 'LIRIS': from fit_properties_liris import get_line_fit_props\n",
    "    if instr == 'NIRI': from fit_properties_niri import get_line_fit_props\n",
    "    if instr == 'NIRSPEC': from fit_properties_nirspec import get_line_fit_props\n",
    "    if instr == 'SOFI_JH': from fit_properties_sofi_jh import get_line_fit_props\n",
    "    if instr == 'SOFI_LC': from fit_properties_sofi_lc import get_line_fit_props\n",
    "    if instr == 'TRIPLE': from fit_properties_triple import get_line_fit_props\n",
    "    if instr == 'TRIPLE_S15': from fit_properties_triple_shen15 import get_line_fit_props\n",
    "    if instr == 'XSHOOT': from fit_properties_xshooter import get_line_fit_props\n",
    "    if instr == 'SINF': from fit_properties_sinfoni import get_line_fit_props\n",
    "    if instr == 'SINF_KK': from fit_properties_sinfoni_kurk import get_line_fit_props\n",
    "    q = get_line_fit_props().all_quasars()\n",
    "    p = q[df.ix[row.name, 'NUM']]    \n",
    "\n",
    "    snr = np.zeros(4)\n",
    "\n",
    "    # Ha -----------------------------------\n",
    "\n",
    "    w0=6564.89*u.AA\n",
    "    vdat = wave2doppler(wav*u.AA, w0).value\n",
    "\n",
    "    # index of region for continuum fit \n",
    "    continuum_region = p.ha_continuum_region \n",
    "    if continuum_region[0].unit == (u.km/u.s):\n",
    "        continuum_region[0] = doppler2wave(continuum_region[0], w0)\n",
    "    if continuum_region[1].unit == (u.km/u.s):\n",
    "        continuum_region[1] = doppler2wave(continuum_region[1], w0)\n",
    "\n",
    "    blue_mask = (wav < continuum_region[0][0].value) | (wav > continuum_region[0][1].value)\n",
    "    red_mask = (wav < continuum_region[1][0].value) | (wav > continuum_region[1][1].value) \n",
    "\n",
    "    maskout = p.ha_maskout \n",
    "\n",
    "    if maskout is not None:\n",
    "\n",
    "        for item in maskout:\n",
    "\n",
    "            if maskout.unit == (u.km/u.s):  \n",
    "\n",
    "                mask = (vdat > item[0].value) & (vdat < item[1].value) \n",
    "\n",
    "            elif maskout.unit == u.AA: \n",
    "\n",
    "                mask = (wav.value > item[0].value) & (wav < item[1].value)  \n",
    "\n",
    "        red_mask = red_mask | mask \n",
    "        blue_mask = blue_mask | mask \n",
    "\n",
    "    red_snr = np.nanmedian(flux[~red_mask] / np.nanstd(flux[~red_mask]))\n",
    "    blue_snr = np.nanmedian(flux[~blue_mask] / np.nanstd(flux[~blue_mask]))\n",
    "    snr[:2] = [red_snr, blue_snr]\n",
    "\n",
    "    # Hb -----------------------------------\n",
    "\n",
    "    w0=4862.721*u.AA\n",
    "    vdat = wave2doppler(wav*u.AA, w0).value\n",
    "\n",
    "    # index of region for continuum fit \n",
    "    continuum_region = p.hb_continuum_region \n",
    "    if continuum_region[0].unit == (u.km/u.s):\n",
    "        continuum_region[0] = doppler2wave(continuum_region[0], w0)\n",
    "    if continuum_region[1].unit == (u.km/u.s):\n",
    "        continuum_region[1] = doppler2wave(continuum_region[1], w0)\n",
    "\n",
    "    blue_mask = (wav < continuum_region[0][0].value) | (wav > continuum_region[0][1].value)\n",
    "    red_mask = (wav < continuum_region[1][0].value) | (wav > continuum_region[1][1].value) \n",
    "\n",
    "    maskout = p.hb_maskout \n",
    "\n",
    "    if maskout is not None:\n",
    "\n",
    "        for item in maskout:\n",
    "\n",
    "            if maskout.unit == (u.km/u.s):  \n",
    "\n",
    "                mask = (vdat > item[0].value) & (vdat < item[1].value) \n",
    "\n",
    "            elif maskout.unit == u.AA: \n",
    "\n",
    "                mask = (wav.value > item[0].value) & (wav < item[1].value)  \n",
    "\n",
    "        red_mask = red_mask | mask \n",
    "        blue_mask = blue_mask | mask \n",
    "\n",
    "    red_snr = np.nanmedian(flux[~red_mask] / np.nanstd(flux[~red_mask]))\n",
    "    blue_snr = np.nanmedian(flux[~blue_mask] / np.nanstd(flux[~blue_mask]))\n",
    "    snr[2:] = [red_snr, blue_snr]\n",
    "    print snr\n",
    "\n",
    "\n"
   ]
  },
  {
   "cell_type": "code",
   "execution_count": null,
   "metadata": {
    "collapsed": true
   },
   "outputs": [],
   "source": []
  }
 ],
 "metadata": {
  "kernelspec": {
   "display_name": "Python 2",
   "language": "python",
   "name": "python2"
  },
  "language_info": {
   "codemirror_mode": {
    "name": "ipython",
    "version": 2
   },
   "file_extension": ".py",
   "mimetype": "text/x-python",
   "name": "python",
   "nbconvert_exporter": "python",
   "pygments_lexer": "ipython2",
   "version": "2.7.8"
  }
 },
 "nbformat": 4,
 "nbformat_minor": 0
}
