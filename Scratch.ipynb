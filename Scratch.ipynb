{
 "cells": [
  {
   "cell_type": "code",
   "execution_count": 1,
   "metadata": {
    "collapsed": true
   },
   "outputs": [],
   "source": [
    "%matplotlib inline\n",
    "import matplotlib.pyplot as plt\n",
    "import seaborn as sns; sns.set()\n",
    "import numpy as np\n",
    "import pandas as pd\n",
    "from astropy import constants as const\n",
    "import astropy.units as u\n",
    "from sklearn.neighbors import KernelDensity\n",
    "import palettable\n",
    "from sklearn.grid_search import GridSearchCV\n",
    "from sklearn.cross_validation import LeaveOneOut\n",
    "cs = palettable.colorbrewer.qualitative.Set1_9.mpl_colors"
   ]
  },
  {
   "cell_type": "code",
   "execution_count": 4,
   "metadata": {
    "collapsed": false
   },
   "outputs": [
    {
     "data": {
      "text/plain": [
       "{'bandwidth': 0.40370172585965547}"
      ]
     },
     "execution_count": 4,
     "metadata": {},
     "output_type": "execute_result"
    }
   ],
   "source": [
    "df = pd.read_csv('/home/lc585/Dropbox/IoA/nirspec/tables/masterlist_liam.csv', index_col=0) \n",
    "df = df[df.OIII_FLAG_2 > 0]\n",
    "df = df[df.OIII_EQW_FLAG == 0]\n",
    "df = df[df.OIII_BAD_FIT_FLAG == 0]\n",
    "df = df[df.FE_FLAG == 0]\n",
    "df = df[df.OIII_EXTREM_FLAG == 0]\n",
    "\n",
    "df = df[df.OIII_SNR_FLAG == 0] # Really should do this on OIII_FIT_Z_FULL_OIII_PEAK? Also, when I've finished calculating it\n",
    "# just look at the fractional error, since that would be a lot simpler. \n",
    "\n",
    "# df = df[df.OIII_FIT_HB_Z_FLAG == 1] # need to relax this \n",
    "\n",
    "x = const.c.to(u.km/u.s)*(df.OIII_FIT_Z_FULL_OIII_PEAK - df.OIII_FIT_HB_Z)/(1.0 + df.OIII_FIT_Z_FULL_OIII_PEAK)\n",
    "norm = np.std(x)\n",
    "\n",
    "x = x / norm\n",
    "\n",
    "x_d = np.linspace(-4, 4, 1000)\n",
    "\n",
    "bandwidths = 10 ** np.linspace(-1, 1, 100)\n",
    "grid = GridSearchCV(KernelDensity(kernel='gaussian'),\n",
    "                    {'bandwidth': bandwidths},\n",
    "                    cv=LeaveOneOut(len(x)))\n",
    "grid.fit(x[:, None]);\n",
    "\n",
    "grid.best_params_\n",
    "\n"
   ]
  },
  {
   "cell_type": "code",
   "execution_count": 7,
   "metadata": {
    "collapsed": false
   },
   "outputs": [
    {
     "data": {
      "image/png": "[encoded data removed]",
      "text/plain": [
       "<matplotlib.figure.Figure at 0x7f68c3656310>"
      ]
     },
     "metadata": {},
     "output_type": "display_data"
    }
   ],
   "source": [
    "kde = KernelDensity(bandwidth=0.4, kernel='gaussian')\n",
    "kde.fit(x[:, None])\n",
    "\n",
    "# score_samples returns the log of the probability density\n",
    "logprob = kde.score_samples(x_d[:, None])\n",
    "\n",
    "plt.fill_between(x_d, np.exp(logprob), alpha=0.5)\n",
    "plt.plot(x, np.full_like(x, -0.01), '|k', markeredgewidth=1)\n",
    "\n",
    "n, bins, patches = plt.hist(x,\n",
    "        histtype='step',\n",
    "        color='black',\n",
    "        bins=20,\n",
    "        zorder=1,\n",
    "        normed=True)\n",
    "\n"
   ]
  },
  {
   "cell_type": "markdown",
   "metadata": {},
   "source": [
    "Peak at 0 is suspicious \n",
    "\n"
   ]
  },
  {
   "cell_type": "code",
   "execution_count": 10,
   "metadata": {
    "collapsed": false
   },
   "outputs": [
    {
     "name": "stdout",
     "output_type": "stream",
     "text": [
      "QSO003\n",
      "QSO012\n",
      "QSO013\n",
      "QSO014\n",
      "QSO016\n",
      "QSO034\n",
      "QSO037\n",
      "QSO046\n",
      "QSO059\n",
      "QSO060\n",
      "QSO177\n",
      "QSO184\n",
      "QSO203\n",
      "QSO304\n",
      "QSO323\n",
      "QSO355\n",
      "QSO364\n",
      "QSO410\n",
      "QSO478\n",
      "QSO481\n",
      "QSO505\n",
      "QSO510\n",
      "QSO516\n",
      "QSO521\n",
      "QSO527\n",
      "QSO534\n",
      "QSO539\n",
      "QSO543\n",
      "QSO547\n",
      "QSO549\n",
      "QSO552\n",
      "QSO554\n",
      "QSO559\n",
      "QSO567\n",
      "QSO582\n",
      "QSO598\n",
      "QSO623\n",
      "QSO633\n",
      "QSO634\n"
     ]
    }
   ],
   "source": [
    "ii = df.index[(x > -0.19274203) & (x < 0.12154142)]\n",
    "for i in ii: print i\n"
   ]
  }
 ],
 "metadata": {
  "kernelspec": {
   "display_name": "Python 2",
   "language": "python",
   "name": "python2"
  },
  "language_info": {
   "codemirror_mode": {
    "name": "ipython",
    "version": 2
   },
   "file_extension": ".py",
   "mimetype": "text/x-python",
   "name": "python",
   "nbconvert_exporter": "python",
   "pygments_lexer": "ipython2",
   "version": "2.7.8"
  }
 },
 "nbformat": 4,
 "nbformat_minor": 0
}
