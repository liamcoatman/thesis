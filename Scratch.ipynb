{
 "cells": [
  {
   "cell_type": "code",
   "execution_count": 1,
   "metadata": {
    "collapsed": true
   },
   "outputs": [],
   "source": [
    "%matplotlib inline\n",
    "import matplotlib.pyplot as plt\n",
    "import seaborn as sns; sns.set()\n",
    "import numpy as np\n",
    "import pandas as pd\n",
    "from astropy import constants as const\n",
    "import astropy.units as u\n",
    "from sklearn.neighbors import KernelDensity\n",
    "import palettable\n",
    "from sklearn.grid_search import GridSearchCV\n",
    "from sklearn.cross_validation import LeaveOneOut\n",
    "cs = palettable.colorbrewer.qualitative.Set1_9.mpl_colors"
   ]
  },
  {
   "cell_type": "code",
   "execution_count": 2,
   "metadata": {
    "collapsed": false
   },
   "outputs": [
    {
     "data": {
      "text/plain": [
       "{'bandwidth': 0.36783797718286343}"
      ]
     },
     "execution_count": 2,
     "metadata": {},
     "output_type": "execute_result"
    }
   ],
   "source": [
    "df = pd.read_csv('/home/lc585/Dropbox/IoA/nirspec/tables/masterlist_liam.csv', index_col=0) \n",
    "df = df[df.OIII_FLAG_2 > 0]\n",
    "df = df[df.OIII_EQW_FLAG == 0]\n",
    "df = df[df.OIII_BAD_FIT_FLAG == 0]\n",
    "df = df[df.FE_FLAG == 0]\n",
    "df = df[df.OIII_EXTREM_FLAG == 0]\n",
    "\n",
    "df = df[df.OIII_SNR_FLAG == 0] # Really should do this on OIII_FIT_Z_FULL_OIII_PEAK? Also, when I've finished calculating it\n",
    "# just look at the fractional error, since that would be a lot simpler. \n",
    "\n",
    "# df = df[df.OIII_FIT_HB_Z_FLAG == 1] # need to relax this \n",
    "\n",
    "x = const.c.to(u.km/u.s)*(df.OIII_FIT_Z_FULL_OIII_PEAK - df.OIII_FIT_HB_Z)/(1.0 + df.OIII_FIT_Z_FULL_OIII_PEAK)\n",
    "\n",
    "norm = np.std(x)\n",
    "x = x / norm\n",
    "\n",
    "x_d = np.linspace(-4, 4, 1000)\n",
    "\n",
    "bandwidths = 10 ** np.linspace(-1, 1, 100)\n",
    "grid = GridSearchCV(KernelDensity(kernel='gaussian'),\n",
    "                    {'bandwidth': bandwidths},\n",
    "                    cv=LeaveOneOut(len(x)))\n",
    "grid.fit(x[:, None]);\n",
    "\n",
    "grid.best_params_\n",
    "\n"
   ]
  },
  {
   "cell_type": "code",
   "execution_count": 3,
   "metadata": {
    "collapsed": false
   },
   "outputs": [
    {
     "name": "stderr",
     "output_type": "stream",
     "text": [
      "/data/lc585/venv/lib/python2.7/site-packages/matplotlib/collections.py:590: FutureWarning: elementwise comparison failed; returning scalar instead, but in the future will perform elementwise comparison\n",
      "  if self._edgecolors == str('face'):\n"
     ]
    },
    {
     "data": {
      "image/png": "[encoded data removed]",
      "text/plain": [
       "<matplotlib.figure.Figure at 0x7ff0db24bf50>"
      ]
     },
     "metadata": {},
     "output_type": "display_data"
    }
   ],
   "source": [
    "kde = KernelDensity(bandwidth=0.4, kernel='gaussian')\n",
    "kde.fit(x[:, None])\n",
    "\n",
    "# score_samples returns the log of the probability density\n",
    "logprob = kde.score_samples(x_d[:, None])\n",
    "\n",
    "plt.fill_between(x_d, np.exp(logprob), alpha=0.5)\n",
    "plt.plot(x, np.full_like(x, -0.01), '|k', markeredgewidth=1)\n",
    "\n",
    "n, bins, patches = plt.hist(x,\n",
    "        histtype='step',\n",
    "        color='black',\n",
    "        bins=20,\n",
    "        zorder=1,\n",
    "        normed=True)\n",
    "\n"
   ]
  },
  {
   "cell_type": "markdown",
   "metadata": {},
   "source": [
    "Peak at 0 is suspicious \n",
    "\n"
   ]
  },
  {
   "cell_type": "code",
   "execution_count": 10,
   "metadata": {
    "collapsed": false
   },
   "outputs": [
    {
     "name": "stdout",
     "output_type": "stream",
     "text": [
      "QSO003\n",
      "QSO012\n",
      "QSO013\n",
      "QSO014\n",
      "QSO016\n",
      "QSO034\n",
      "QSO037\n",
      "QSO046\n",
      "QSO059\n",
      "QSO060\n",
      "QSO177\n",
      "QSO184\n",
      "QSO203\n",
      "QSO304\n",
      "QSO323\n",
      "QSO355\n",
      "QSO364\n",
      "QSO410\n",
      "QSO478\n",
      "QSO481\n",
      "QSO505\n",
      "QSO510\n",
      "QSO516\n",
      "QSO521\n",
      "QSO527\n",
      "QSO534\n",
      "QSO539\n",
      "QSO543\n",
      "QSO547\n",
      "QSO549\n",
      "QSO552\n",
      "QSO554\n",
      "QSO559\n",
      "QSO567\n",
      "QSO582\n",
      "QSO598\n",
      "QSO623\n",
      "QSO633\n",
      "QSO634\n"
     ]
    }
   ],
   "source": [
    "ii = df.index[(x > -0.19274203) & (x < 0.12154142)]\n",
    "for i in ii: print i\n"
   ]
  },
  {
   "cell_type": "code",
   "execution_count": 7,
   "metadata": {
    "collapsed": false
   },
   "outputs": [
    {
     "name": "stdout",
     "output_type": "stream",
     "text": [
      "QSO431     0.16\n",
      "QSO512     0.27\n",
      "QSO508     0.28\n",
      "QSO498     0.32\n",
      "QSO493     0.32\n",
      "QSO488     0.32\n",
      "QSO490     0.34\n",
      "QSO513     0.34\n",
      "QSO173     0.35\n",
      "QSO136     0.35\n",
      "QSO504     0.42\n",
      "QSO479     0.43\n",
      "QSO478     0.43\n",
      "QSO500     0.43\n",
      "QSO496     0.44\n",
      "QSO574     0.44\n",
      "QSO152     0.46\n",
      "QSO515     0.48\n",
      "QSO143     0.48\n",
      "QSO511     0.49\n",
      "QSO506     0.50\n",
      "QSO400     0.51\n",
      "QSO117     0.52\n",
      "QSO510     0.53\n",
      "QSO573     0.53\n",
      "QSO503     0.53\n",
      "QSO122     0.54\n",
      "QSO502     0.54\n",
      "QSO481     0.54\n",
      "QSO480     0.54\n",
      "          ...  \n",
      "QSO543     3.67\n",
      "QSO014     3.73\n",
      "QSO010     3.80\n",
      "QSO050     3.87\n",
      "QSO581     3.93\n",
      "QSO042     4.01\n",
      "QSO004     4.04\n",
      "QSO587     4.16\n",
      "QSO022     4.21\n",
      "QSO017     4.21\n",
      "QSO058     4.21\n",
      "QSO601     4.52\n",
      "QSO020     4.90\n",
      "QSO560     4.99\n",
      "QSO628     5.13\n",
      "QSO168     5.72\n",
      "QSO423     5.74\n",
      "QSO025     5.90\n",
      "QSO009     6.13\n",
      "QSO051     6.14\n",
      "QSO360     6.21\n",
      "QSO015     6.46\n",
      "QSO016     6.54\n",
      "QSO584     7.67\n",
      "QSO003    11.23\n",
      "QSO299    12.35\n",
      "QSO203    12.99\n",
      "QSO007    14.90\n",
      "QSO184    16.47\n",
      "QSO629    22.55\n",
      "Name: mfica_redchi, dtype: float64\n",
      "False\n"
     ]
    }
   ],
   "source": [
    "df = pd.read_csv('/home/lc585/Dropbox/IoA/nirspec/tables/masterlist_liam.csv', index_col=0) \n",
    "df = df[df.OIII_FLAG_2 > 0]\n",
    "print df.mfica_redchi.sort_values()\n",
    "\n"
   ]
  },
  {
   "cell_type": "code",
   "execution_count": 11,
   "metadata": {
    "collapsed": false
   },
   "outputs": [
    {
     "name": "stdout",
     "output_type": "stream",
     "text": [
      "QSO203    52.05\n",
      "QSO299    15.38\n",
      "QSO518     7.37\n",
      "QSO548     5.30\n",
      "QSO534     5.26\n",
      "QSO016     5.09\n",
      "QSO536     4.99\n",
      "QSO025     4.94\n",
      "QSO527     4.50\n",
      "QSO304     4.38\n",
      "QSO302     4.21\n",
      "QSO310     4.05\n",
      "QSO020     3.93\n",
      "QSO009     3.87\n",
      "QSO314     3.80\n",
      "QSO543     3.67\n",
      "QSO308     3.57\n",
      "QSO184     3.45\n",
      "QSO315     3.42\n",
      "QSO633     3.37\n",
      "Name: REDCHI, dtype: float64\n"
     ]
    }
   ],
   "source": [
    "df = pd.read_csv('/home/lc585/Dropbox/IoA/nirspec/tables/masterlist_liam.csv', index_col=0) \n",
    "df = df[df.OIII_FLAG_2 > 0]\n",
    "df = df[df.OIII_EQW_FLAG == 0]\n",
    "df = df[df.OIII_BAD_FIT_FLAG == 0]\n",
    "df = df[df.FE_FLAG == 0]\n",
    "df = df[df.OIII_EXTREM_FLAG == 0]\n",
    "\n",
    "print df.REDCHI.sort_values(ascending=False).head(n=20)"
   ]
  },
  {
   "cell_type": "code",
   "execution_count": null,
   "metadata": {
    "collapsed": true
   },
   "outputs": [],
   "source": [
    "print df.REDCHI.sort_values(ascending=False).head"
   ]
  }
 ],
 "metadata": {
  "kernelspec": {
   "display_name": "Python 2",
   "language": "python",
   "name": "python2"
  },
  "language_info": {
   "codemirror_mode": {
    "name": "ipython",
    "version": 2
   },
   "file_extension": ".py",
   "mimetype": "text/x-python",
   "name": "python",
   "nbconvert_exporter": "python",
   "pygments_lexer": "ipython2",
   "version": "2.7.8"
  }
 },
 "nbformat": 4,
 "nbformat_minor": 0
}
