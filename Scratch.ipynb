{
 "cells": [
  {
   "cell_type": "code",
   "execution_count": 31,
   "metadata": {
    "collapsed": false
   },
   "outputs": [
    {
     "name": "stdout",
     "output_type": "stream",
     "text": [
      "-279.410000001 -217.690000001 -114.580000001 -9.09494701773e-10 114.569999999 217.679999999 279.399999999\n",
      "229.15 435.37 558.809999999\n",
      "1.74558149684 0.91875875692 0.715806803744\n"
     ]
    }
   ],
   "source": [
    "from lmfit.models import GaussianModel\n",
    "import numpy as np\n",
    "import matplotlib.pyplot as plt \n",
    "\n",
    "%matplotlib inline\n",
    "\n",
    "mod = GaussianModel()   \n",
    "pars = mod.make_params() \n",
    "\n",
    "pars['sigma'].value = 400.0 / np.sqrt(8.0 * np.log(2))\n",
    "\n",
    "dv = 0.01\n",
    "xs = np.arange(-1000.0, 1000.0, dv) \n",
    "\n",
    "norm = np.sum(mod.eval(params=pars, x=xs) * dv)\n",
    "pdf = mod.eval(params=pars, x=xs) / norm\n",
    "cdf = np.cumsum(pdf * dv)\n",
    "\n",
    "v5 = xs[np.argmin(np.abs(cdf - 0.05))]\n",
    "v10 = xs[np.argmin(np.abs(cdf - 0.10))]\n",
    "v25 = xs[np.argmin(np.abs(cdf - 0.25))]\n",
    "v50 = xs[np.argmin(np.abs(cdf - 0.50))]\n",
    "v75 = xs[np.argmin(np.abs(cdf - 0.75))]\n",
    "v90 = xs[np.argmin(np.abs(cdf - 0.90))]\n",
    "v95 = xs[np.argmin(np.abs(cdf - 0.95))]\n",
    "\n",
    "print v5, v10, v25, v50, v75, v90, v95\n",
    "\n",
    "w50 = v75 - v25 \n",
    "w80 = v90 - v10\n",
    "w90 = v95 - v5 \n",
    "\n",
    "print w50, w80, w90 \n",
    "\n",
    "print 400.0 / w50, 400.0 / w80, 400.0 / w90 \n",
    "\n",
    "\n"
   ]
  },
  {
   "cell_type": "code",
   "execution_count": null,
   "metadata": {
    "collapsed": true
   },
   "outputs": [],
   "source": []
  },
  {
   "cell_type": "code",
   "execution_count": null,
   "metadata": {
    "collapsed": true
   },
   "outputs": [],
   "source": []
  }
 ],
 "metadata": {
  "kernelspec": {
   "display_name": "Python 2",
   "language": "python",
   "name": "python2"
  },
  "language_info": {
   "codemirror_mode": {
    "name": "ipython",
    "version": 2
   },
   "file_extension": ".py",
   "mimetype": "text/x-python",
   "name": "python",
   "nbconvert_exporter": "python",
   "pygments_lexer": "ipython2",
   "version": "2.7.8"
  }
 },
 "nbformat": 4,
 "nbformat_minor": 0
}
